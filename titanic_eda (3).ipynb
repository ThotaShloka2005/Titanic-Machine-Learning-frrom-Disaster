{
 "cells": [
  {
   "cell_type": "code",
   "execution_count": 78,
   "id": "42ce4968",
   "metadata": {},
   "outputs": [
    {
     "name": "stdout",
     "output_type": "stream",
     "text": [
      "Requirement already satisfied: plotly in c:\\users\\shloka\\appdata\\local\\programs\\python\\python312\\lib\\site-packages (6.0.1)\n",
      "Requirement already satisfied: narwhals>=1.15.1 in c:\\users\\shloka\\appdata\\local\\programs\\python\\python312\\lib\\site-packages (from plotly) (1.38.2)\n",
      "Requirement already satisfied: packaging in c:\\users\\shloka\\appdata\\roaming\\python\\python312\\site-packages (from plotly) (25.0)\n",
      "Note: you may need to restart the kernel to use updated packages.\n"
     ]
    },
    {
     "name": "stderr",
     "output_type": "stream",
     "text": [
      "\n",
      "[notice] A new release of pip is available: 24.0 -> 25.1.1\n",
      "[notice] To update, run: python.exe -m pip install --upgrade pip\n"
     ]
    }
   ],
   "source": [
    "pip install plotly\n"
   ]
  },
  {
   "cell_type": "code",
   "execution_count": 2,
   "id": "dd1adff3",
   "metadata": {},
   "outputs": [],
   "source": [
    "\n",
    "\n",
    "# Data manipulation libraries\n",
    "import pandas as pd  # For data manipulation and analysis\n",
    "import numpy as np   # For numerical operations\n",
    "import seaborn as sns "
   ]
  },
  {
   "cell_type": "code",
   "execution_count": 3,
   "id": "1bbad9d3",
   "metadata": {},
   "outputs": [],
   "source": [
    "# Setting visualization styles and options\n",
    "\n",
    "import matplotlib.pyplot as plt\n",
    "\n",
    "\n",
    "sns.set_style('whitegrid')  # Setting seaborn style\n",
    "plt.style.use('seaborn-v0_8-whitegrid') \n",
    "\n",
    "# Set Matplotlib style\n",
    "plt.style.use('Solarize_Light2')  # Compatible with most versions\n",
    "\n",
    "# Set default figure size for Matplotlib plots\n",
    "plt.rcParams['figure.figsize'] = (12, 8)\n",
    "\n"
   ]
  },
  {
   "cell_type": "code",
   "execution_count": 4,
   "id": "0859ea1e",
   "metadata": {},
   "outputs": [],
   "source": [
    "# Display all columns and rows\n",
    "pd.set_option('display.max_columns', None)\n"
   ]
  },
  {
   "cell_type": "code",
   "execution_count": 5,
   "id": "656045fc",
   "metadata": {},
   "outputs": [],
   "source": [
    "\n",
    "# Data manipulation libraries\n",
    "import pandas as pd  # For data manipulation and analysis\n",
    "import numpy as np   # For numerical operations"
   ]
  },
  {
   "cell_type": "code",
   "execution_count": 6,
   "id": "2538552b",
   "metadata": {},
   "outputs": [],
   "source": [
    "# Ignore warnings\n",
    "import warnings\n",
    "warnings.filterwarnings('ignore')"
   ]
  },
  {
   "cell_type": "code",
   "execution_count": 7,
   "id": "079f4ace",
   "metadata": {},
   "outputs": [],
   "source": [
    "# For interactive plots in the notebook\n",
    "import plotly.io as pio\n",
    "pio.templates.default = \"plotly_white\"  # Setting plotly template"
   ]
  },
  {
   "cell_type": "code",
   "execution_count": 9,
   "id": "65c9b35a",
   "metadata": {},
   "outputs": [
    {
     "ename": "FileNotFoundError",
     "evalue": "[Errno 2] No such file or directory: 'train.csv'",
     "output_type": "error",
     "traceback": [
      "\u001b[31m---------------------------------------------------------------------------\u001b[39m",
      "\u001b[31mFileNotFoundError\u001b[39m                         Traceback (most recent call last)",
      "\u001b[36mCell\u001b[39m\u001b[36m \u001b[39m\u001b[32mIn[9]\u001b[39m\u001b[32m, line 6\u001b[39m\n\u001b[32m      1\u001b[39m \u001b[38;5;66;03m# In[2]:\u001b[39;00m\n\u001b[32m      2\u001b[39m \n\u001b[32m      3\u001b[39m \n\u001b[32m      4\u001b[39m \u001b[38;5;66;03m# Load the training and test datasets\u001b[39;00m\n\u001b[32m      5\u001b[39m \u001b[38;5;66;03m# pd.read_csv() is used to read CSV files into pandas DataFrames\u001b[39;00m\n\u001b[32m----> \u001b[39m\u001b[32m6\u001b[39m train_df = \u001b[43mpd\u001b[49m\u001b[43m.\u001b[49m\u001b[43mread_csv\u001b[49m\u001b[43m(\u001b[49m\u001b[33;43m'\u001b[39;49m\u001b[33;43mtrain.csv\u001b[39;49m\u001b[33;43m'\u001b[39;49m\u001b[43m)\u001b[49m  \u001b[38;5;66;03m# Loading training data\u001b[39;00m\n\u001b[32m      7\u001b[39m test_df = pd.read_csv(\u001b[33mr\u001b[39m\u001b[33m\"\u001b[39m\u001b[33mC:\u001b[39m\u001b[33m\\\u001b[39m\u001b[33mUsers\u001b[39m\u001b[33m\\\u001b[39m\u001b[33mShloka\u001b[39m\u001b[33m\\\u001b[39m\u001b[33mDownloads\u001b[39m\u001b[33m\\\u001b[39m\u001b[33mtitanic\u001b[39m\u001b[33m\\\u001b[39m\u001b[33mtest.csv\u001b[39m\u001b[33m\"\u001b[39m)    \u001b[38;5;66;03m# Loading test data\u001b[39;00m\n\u001b[32m      9\u001b[39m \u001b[38;5;66;03m# Display the first few rows of the training data to get a quick overview\u001b[39;00m\n",
      "\u001b[36mFile \u001b[39m\u001b[32mc:\\Users\\Shloka\\AppData\\Local\\Programs\\Python\\Python312\\Lib\\site-packages\\pandas\\io\\parsers\\readers.py:1026\u001b[39m, in \u001b[36mread_csv\u001b[39m\u001b[34m(filepath_or_buffer, sep, delimiter, header, names, index_col, usecols, dtype, engine, converters, true_values, false_values, skipinitialspace, skiprows, skipfooter, nrows, na_values, keep_default_na, na_filter, verbose, skip_blank_lines, parse_dates, infer_datetime_format, keep_date_col, date_parser, date_format, dayfirst, cache_dates, iterator, chunksize, compression, thousands, decimal, lineterminator, quotechar, quoting, doublequote, escapechar, comment, encoding, encoding_errors, dialect, on_bad_lines, delim_whitespace, low_memory, memory_map, float_precision, storage_options, dtype_backend)\u001b[39m\n\u001b[32m   1013\u001b[39m kwds_defaults = _refine_defaults_read(\n\u001b[32m   1014\u001b[39m     dialect,\n\u001b[32m   1015\u001b[39m     delimiter,\n\u001b[32m   (...)\u001b[39m\u001b[32m   1022\u001b[39m     dtype_backend=dtype_backend,\n\u001b[32m   1023\u001b[39m )\n\u001b[32m   1024\u001b[39m kwds.update(kwds_defaults)\n\u001b[32m-> \u001b[39m\u001b[32m1026\u001b[39m \u001b[38;5;28;01mreturn\u001b[39;00m \u001b[43m_read\u001b[49m\u001b[43m(\u001b[49m\u001b[43mfilepath_or_buffer\u001b[49m\u001b[43m,\u001b[49m\u001b[43m \u001b[49m\u001b[43mkwds\u001b[49m\u001b[43m)\u001b[49m\n",
      "\u001b[36mFile \u001b[39m\u001b[32mc:\\Users\\Shloka\\AppData\\Local\\Programs\\Python\\Python312\\Lib\\site-packages\\pandas\\io\\parsers\\readers.py:620\u001b[39m, in \u001b[36m_read\u001b[39m\u001b[34m(filepath_or_buffer, kwds)\u001b[39m\n\u001b[32m    617\u001b[39m _validate_names(kwds.get(\u001b[33m\"\u001b[39m\u001b[33mnames\u001b[39m\u001b[33m\"\u001b[39m, \u001b[38;5;28;01mNone\u001b[39;00m))\n\u001b[32m    619\u001b[39m \u001b[38;5;66;03m# Create the parser.\u001b[39;00m\n\u001b[32m--> \u001b[39m\u001b[32m620\u001b[39m parser = \u001b[43mTextFileReader\u001b[49m\u001b[43m(\u001b[49m\u001b[43mfilepath_or_buffer\u001b[49m\u001b[43m,\u001b[49m\u001b[43m \u001b[49m\u001b[43m*\u001b[49m\u001b[43m*\u001b[49m\u001b[43mkwds\u001b[49m\u001b[43m)\u001b[49m\n\u001b[32m    622\u001b[39m \u001b[38;5;28;01mif\u001b[39;00m chunksize \u001b[38;5;129;01mor\u001b[39;00m iterator:\n\u001b[32m    623\u001b[39m     \u001b[38;5;28;01mreturn\u001b[39;00m parser\n",
      "\u001b[36mFile \u001b[39m\u001b[32mc:\\Users\\Shloka\\AppData\\Local\\Programs\\Python\\Python312\\Lib\\site-packages\\pandas\\io\\parsers\\readers.py:1620\u001b[39m, in \u001b[36mTextFileReader.__init__\u001b[39m\u001b[34m(self, f, engine, **kwds)\u001b[39m\n\u001b[32m   1617\u001b[39m     \u001b[38;5;28mself\u001b[39m.options[\u001b[33m\"\u001b[39m\u001b[33mhas_index_names\u001b[39m\u001b[33m\"\u001b[39m] = kwds[\u001b[33m\"\u001b[39m\u001b[33mhas_index_names\u001b[39m\u001b[33m\"\u001b[39m]\n\u001b[32m   1619\u001b[39m \u001b[38;5;28mself\u001b[39m.handles: IOHandles | \u001b[38;5;28;01mNone\u001b[39;00m = \u001b[38;5;28;01mNone\u001b[39;00m\n\u001b[32m-> \u001b[39m\u001b[32m1620\u001b[39m \u001b[38;5;28mself\u001b[39m._engine = \u001b[38;5;28;43mself\u001b[39;49m\u001b[43m.\u001b[49m\u001b[43m_make_engine\u001b[49m\u001b[43m(\u001b[49m\u001b[43mf\u001b[49m\u001b[43m,\u001b[49m\u001b[43m \u001b[49m\u001b[38;5;28;43mself\u001b[39;49m\u001b[43m.\u001b[49m\u001b[43mengine\u001b[49m\u001b[43m)\u001b[49m\n",
      "\u001b[36mFile \u001b[39m\u001b[32mc:\\Users\\Shloka\\AppData\\Local\\Programs\\Python\\Python312\\Lib\\site-packages\\pandas\\io\\parsers\\readers.py:1880\u001b[39m, in \u001b[36mTextFileReader._make_engine\u001b[39m\u001b[34m(self, f, engine)\u001b[39m\n\u001b[32m   1878\u001b[39m     \u001b[38;5;28;01mif\u001b[39;00m \u001b[33m\"\u001b[39m\u001b[33mb\u001b[39m\u001b[33m\"\u001b[39m \u001b[38;5;129;01mnot\u001b[39;00m \u001b[38;5;129;01min\u001b[39;00m mode:\n\u001b[32m   1879\u001b[39m         mode += \u001b[33m\"\u001b[39m\u001b[33mb\u001b[39m\u001b[33m\"\u001b[39m\n\u001b[32m-> \u001b[39m\u001b[32m1880\u001b[39m \u001b[38;5;28mself\u001b[39m.handles = \u001b[43mget_handle\u001b[49m\u001b[43m(\u001b[49m\n\u001b[32m   1881\u001b[39m \u001b[43m    \u001b[49m\u001b[43mf\u001b[49m\u001b[43m,\u001b[49m\n\u001b[32m   1882\u001b[39m \u001b[43m    \u001b[49m\u001b[43mmode\u001b[49m\u001b[43m,\u001b[49m\n\u001b[32m   1883\u001b[39m \u001b[43m    \u001b[49m\u001b[43mencoding\u001b[49m\u001b[43m=\u001b[49m\u001b[38;5;28;43mself\u001b[39;49m\u001b[43m.\u001b[49m\u001b[43moptions\u001b[49m\u001b[43m.\u001b[49m\u001b[43mget\u001b[49m\u001b[43m(\u001b[49m\u001b[33;43m\"\u001b[39;49m\u001b[33;43mencoding\u001b[39;49m\u001b[33;43m\"\u001b[39;49m\u001b[43m,\u001b[49m\u001b[43m \u001b[49m\u001b[38;5;28;43;01mNone\u001b[39;49;00m\u001b[43m)\u001b[49m\u001b[43m,\u001b[49m\n\u001b[32m   1884\u001b[39m \u001b[43m    \u001b[49m\u001b[43mcompression\u001b[49m\u001b[43m=\u001b[49m\u001b[38;5;28;43mself\u001b[39;49m\u001b[43m.\u001b[49m\u001b[43moptions\u001b[49m\u001b[43m.\u001b[49m\u001b[43mget\u001b[49m\u001b[43m(\u001b[49m\u001b[33;43m\"\u001b[39;49m\u001b[33;43mcompression\u001b[39;49m\u001b[33;43m\"\u001b[39;49m\u001b[43m,\u001b[49m\u001b[43m \u001b[49m\u001b[38;5;28;43;01mNone\u001b[39;49;00m\u001b[43m)\u001b[49m\u001b[43m,\u001b[49m\n\u001b[32m   1885\u001b[39m \u001b[43m    \u001b[49m\u001b[43mmemory_map\u001b[49m\u001b[43m=\u001b[49m\u001b[38;5;28;43mself\u001b[39;49m\u001b[43m.\u001b[49m\u001b[43moptions\u001b[49m\u001b[43m.\u001b[49m\u001b[43mget\u001b[49m\u001b[43m(\u001b[49m\u001b[33;43m\"\u001b[39;49m\u001b[33;43mmemory_map\u001b[39;49m\u001b[33;43m\"\u001b[39;49m\u001b[43m,\u001b[49m\u001b[43m \u001b[49m\u001b[38;5;28;43;01mFalse\u001b[39;49;00m\u001b[43m)\u001b[49m\u001b[43m,\u001b[49m\n\u001b[32m   1886\u001b[39m \u001b[43m    \u001b[49m\u001b[43mis_text\u001b[49m\u001b[43m=\u001b[49m\u001b[43mis_text\u001b[49m\u001b[43m,\u001b[49m\n\u001b[32m   1887\u001b[39m \u001b[43m    \u001b[49m\u001b[43merrors\u001b[49m\u001b[43m=\u001b[49m\u001b[38;5;28;43mself\u001b[39;49m\u001b[43m.\u001b[49m\u001b[43moptions\u001b[49m\u001b[43m.\u001b[49m\u001b[43mget\u001b[49m\u001b[43m(\u001b[49m\u001b[33;43m\"\u001b[39;49m\u001b[33;43mencoding_errors\u001b[39;49m\u001b[33;43m\"\u001b[39;49m\u001b[43m,\u001b[49m\u001b[43m \u001b[49m\u001b[33;43m\"\u001b[39;49m\u001b[33;43mstrict\u001b[39;49m\u001b[33;43m\"\u001b[39;49m\u001b[43m)\u001b[49m\u001b[43m,\u001b[49m\n\u001b[32m   1888\u001b[39m \u001b[43m    \u001b[49m\u001b[43mstorage_options\u001b[49m\u001b[43m=\u001b[49m\u001b[38;5;28;43mself\u001b[39;49m\u001b[43m.\u001b[49m\u001b[43moptions\u001b[49m\u001b[43m.\u001b[49m\u001b[43mget\u001b[49m\u001b[43m(\u001b[49m\u001b[33;43m\"\u001b[39;49m\u001b[33;43mstorage_options\u001b[39;49m\u001b[33;43m\"\u001b[39;49m\u001b[43m,\u001b[49m\u001b[43m \u001b[49m\u001b[38;5;28;43;01mNone\u001b[39;49;00m\u001b[43m)\u001b[49m\u001b[43m,\u001b[49m\n\u001b[32m   1889\u001b[39m \u001b[43m\u001b[49m\u001b[43m)\u001b[49m\n\u001b[32m   1890\u001b[39m \u001b[38;5;28;01massert\u001b[39;00m \u001b[38;5;28mself\u001b[39m.handles \u001b[38;5;129;01mis\u001b[39;00m \u001b[38;5;129;01mnot\u001b[39;00m \u001b[38;5;28;01mNone\u001b[39;00m\n\u001b[32m   1891\u001b[39m f = \u001b[38;5;28mself\u001b[39m.handles.handle\n",
      "\u001b[36mFile \u001b[39m\u001b[32mc:\\Users\\Shloka\\AppData\\Local\\Programs\\Python\\Python312\\Lib\\site-packages\\pandas\\io\\common.py:873\u001b[39m, in \u001b[36mget_handle\u001b[39m\u001b[34m(path_or_buf, mode, encoding, compression, memory_map, is_text, errors, storage_options)\u001b[39m\n\u001b[32m    868\u001b[39m \u001b[38;5;28;01melif\u001b[39;00m \u001b[38;5;28misinstance\u001b[39m(handle, \u001b[38;5;28mstr\u001b[39m):\n\u001b[32m    869\u001b[39m     \u001b[38;5;66;03m# Check whether the filename is to be opened in binary mode.\u001b[39;00m\n\u001b[32m    870\u001b[39m     \u001b[38;5;66;03m# Binary mode does not support 'encoding' and 'newline'.\u001b[39;00m\n\u001b[32m    871\u001b[39m     \u001b[38;5;28;01mif\u001b[39;00m ioargs.encoding \u001b[38;5;129;01mand\u001b[39;00m \u001b[33m\"\u001b[39m\u001b[33mb\u001b[39m\u001b[33m\"\u001b[39m \u001b[38;5;129;01mnot\u001b[39;00m \u001b[38;5;129;01min\u001b[39;00m ioargs.mode:\n\u001b[32m    872\u001b[39m         \u001b[38;5;66;03m# Encoding\u001b[39;00m\n\u001b[32m--> \u001b[39m\u001b[32m873\u001b[39m         handle = \u001b[38;5;28;43mopen\u001b[39;49m\u001b[43m(\u001b[49m\n\u001b[32m    874\u001b[39m \u001b[43m            \u001b[49m\u001b[43mhandle\u001b[49m\u001b[43m,\u001b[49m\n\u001b[32m    875\u001b[39m \u001b[43m            \u001b[49m\u001b[43mioargs\u001b[49m\u001b[43m.\u001b[49m\u001b[43mmode\u001b[49m\u001b[43m,\u001b[49m\n\u001b[32m    876\u001b[39m \u001b[43m            \u001b[49m\u001b[43mencoding\u001b[49m\u001b[43m=\u001b[49m\u001b[43mioargs\u001b[49m\u001b[43m.\u001b[49m\u001b[43mencoding\u001b[49m\u001b[43m,\u001b[49m\n\u001b[32m    877\u001b[39m \u001b[43m            \u001b[49m\u001b[43merrors\u001b[49m\u001b[43m=\u001b[49m\u001b[43merrors\u001b[49m\u001b[43m,\u001b[49m\n\u001b[32m    878\u001b[39m \u001b[43m            \u001b[49m\u001b[43mnewline\u001b[49m\u001b[43m=\u001b[49m\u001b[33;43m\"\u001b[39;49m\u001b[33;43m\"\u001b[39;49m\u001b[43m,\u001b[49m\n\u001b[32m    879\u001b[39m \u001b[43m        \u001b[49m\u001b[43m)\u001b[49m\n\u001b[32m    880\u001b[39m     \u001b[38;5;28;01melse\u001b[39;00m:\n\u001b[32m    881\u001b[39m         \u001b[38;5;66;03m# Binary mode\u001b[39;00m\n\u001b[32m    882\u001b[39m         handle = \u001b[38;5;28mopen\u001b[39m(handle, ioargs.mode)\n",
      "\u001b[31mFileNotFoundError\u001b[39m: [Errno 2] No such file or directory: 'train.csv'"
     ]
    }
   ],
   "source": [
    "# In[2]:\n",
    "\n",
    "\n",
    "# Load the training and test datasets\n",
    "# pd.read_csv() is used to read CSV files into pandas DataFrames\n",
    "train_df = pd.read_csv('train.csv')  # Loading training data\n",
    "test_df = pd.read_csv(r\"C:\\Users\\Shloka\\Downloads\\titanic\\test.csv\")    # Loading test data\n",
    "\n",
    "# Display the first few rows of the training data to get a quick overview\n",
    "print(\"Training dataset shape:\", train_df.shape)  # Displays the number of rows and columns\n",
    "train_df.head()  # Shows the first 5 rows of the dataframe"
   ]
  },
  {
   "cell_type": "code",
   "execution_count": null,
   "id": "5aa382fe",
   "metadata": {},
   "outputs": [
    {
     "name": "stdout",
     "output_type": "stream",
     "text": [
      "Training dataset information:\n",
      "<class 'pandas.core.frame.DataFrame'>\n",
      "RangeIndex: 891 entries, 0 to 890\n",
      "Data columns (total 12 columns):\n",
      " #   Column       Non-Null Count  Dtype  \n",
      "---  ------       --------------  -----  \n",
      " 0   PassengerId  891 non-null    int64  \n",
      " 1   Survived     891 non-null    int64  \n",
      " 2   Pclass       891 non-null    int64  \n",
      " 3   Name         891 non-null    object \n",
      " 4   Sex          891 non-null    object \n",
      " 5   Age          714 non-null    float64\n",
      " 6   SibSp        891 non-null    int64  \n",
      " 7   Parch        891 non-null    int64  \n",
      " 8   Ticket       891 non-null    object \n",
      " 9   Fare         891 non-null    float64\n",
      " 10  Cabin        204 non-null    object \n",
      " 11  Embarked     889 non-null    object \n",
      "dtypes: float64(2), int64(5), object(5)\n",
      "memory usage: 83.7+ KB\n"
     ]
    }
   ],
   "source": [
    "# ## 3. Initial Data Exploration\n",
    "# \n",
    "# Let's get a better understanding of our data by exploring its structure and contents:\n",
    "\n",
    "# In[3]:\n",
    "\n",
    "\n",
    "# Get information about the dataset including data types and non-null values\n",
    "# This helps identify missing values and understand data types\n",
    "print(\"Training dataset information:\")\n",
    "train_df.info()\n"
   ]
  },
  {
   "cell_type": "code",
   "execution_count": null,
   "id": "c8d444fe",
   "metadata": {},
   "outputs": [
    {
     "name": "stdout",
     "output_type": "stream",
     "text": [
      "Statistical summary of numerical features:\n"
     ]
    },
    {
     "data": {
      "text/html": [
       "<div>\n",
       "<style scoped>\n",
       "    .dataframe tbody tr th:only-of-type {\n",
       "        vertical-align: middle;\n",
       "    }\n",
       "\n",
       "    .dataframe tbody tr th {\n",
       "        vertical-align: top;\n",
       "    }\n",
       "\n",
       "    .dataframe thead th {\n",
       "        text-align: right;\n",
       "    }\n",
       "</style>\n",
       "<table border=\"1\" class=\"dataframe\">\n",
       "  <thead>\n",
       "    <tr style=\"text-align: right;\">\n",
       "      <th></th>\n",
       "      <th>PassengerId</th>\n",
       "      <th>Survived</th>\n",
       "      <th>Pclass</th>\n",
       "      <th>Age</th>\n",
       "      <th>SibSp</th>\n",
       "      <th>Parch</th>\n",
       "      <th>Fare</th>\n",
       "    </tr>\n",
       "  </thead>\n",
       "  <tbody>\n",
       "    <tr>\n",
       "      <th>count</th>\n",
       "      <td>891.000000</td>\n",
       "      <td>891.000000</td>\n",
       "      <td>891.000000</td>\n",
       "      <td>714.000000</td>\n",
       "      <td>891.000000</td>\n",
       "      <td>891.000000</td>\n",
       "      <td>891.000000</td>\n",
       "    </tr>\n",
       "    <tr>\n",
       "      <th>mean</th>\n",
       "      <td>446.000000</td>\n",
       "      <td>0.383838</td>\n",
       "      <td>2.308642</td>\n",
       "      <td>29.699118</td>\n",
       "      <td>0.523008</td>\n",
       "      <td>0.381594</td>\n",
       "      <td>32.204208</td>\n",
       "    </tr>\n",
       "    <tr>\n",
       "      <th>std</th>\n",
       "      <td>257.353842</td>\n",
       "      <td>0.486592</td>\n",
       "      <td>0.836071</td>\n",
       "      <td>14.526497</td>\n",
       "      <td>1.102743</td>\n",
       "      <td>0.806057</td>\n",
       "      <td>49.693429</td>\n",
       "    </tr>\n",
       "    <tr>\n",
       "      <th>min</th>\n",
       "      <td>1.000000</td>\n",
       "      <td>0.000000</td>\n",
       "      <td>1.000000</td>\n",
       "      <td>0.420000</td>\n",
       "      <td>0.000000</td>\n",
       "      <td>0.000000</td>\n",
       "      <td>0.000000</td>\n",
       "    </tr>\n",
       "    <tr>\n",
       "      <th>25%</th>\n",
       "      <td>223.500000</td>\n",
       "      <td>0.000000</td>\n",
       "      <td>2.000000</td>\n",
       "      <td>20.125000</td>\n",
       "      <td>0.000000</td>\n",
       "      <td>0.000000</td>\n",
       "      <td>7.910400</td>\n",
       "    </tr>\n",
       "    <tr>\n",
       "      <th>50%</th>\n",
       "      <td>446.000000</td>\n",
       "      <td>0.000000</td>\n",
       "      <td>3.000000</td>\n",
       "      <td>28.000000</td>\n",
       "      <td>0.000000</td>\n",
       "      <td>0.000000</td>\n",
       "      <td>14.454200</td>\n",
       "    </tr>\n",
       "    <tr>\n",
       "      <th>75%</th>\n",
       "      <td>668.500000</td>\n",
       "      <td>1.000000</td>\n",
       "      <td>3.000000</td>\n",
       "      <td>38.000000</td>\n",
       "      <td>1.000000</td>\n",
       "      <td>0.000000</td>\n",
       "      <td>31.000000</td>\n",
       "    </tr>\n",
       "    <tr>\n",
       "      <th>max</th>\n",
       "      <td>891.000000</td>\n",
       "      <td>1.000000</td>\n",
       "      <td>3.000000</td>\n",
       "      <td>80.000000</td>\n",
       "      <td>8.000000</td>\n",
       "      <td>6.000000</td>\n",
       "      <td>512.329200</td>\n",
       "    </tr>\n",
       "  </tbody>\n",
       "</table>\n",
       "</div>"
      ],
      "text/plain": [
       "       PassengerId    Survived      Pclass         Age       SibSp  \\\n",
       "count   891.000000  891.000000  891.000000  714.000000  891.000000   \n",
       "mean    446.000000    0.383838    2.308642   29.699118    0.523008   \n",
       "std     257.353842    0.486592    0.836071   14.526497    1.102743   \n",
       "min       1.000000    0.000000    1.000000    0.420000    0.000000   \n",
       "25%     223.500000    0.000000    2.000000   20.125000    0.000000   \n",
       "50%     446.000000    0.000000    3.000000   28.000000    0.000000   \n",
       "75%     668.500000    1.000000    3.000000   38.000000    1.000000   \n",
       "max     891.000000    1.000000    3.000000   80.000000    8.000000   \n",
       "\n",
       "            Parch        Fare  \n",
       "count  891.000000  891.000000  \n",
       "mean     0.381594   32.204208  \n",
       "std      0.806057   49.693429  \n",
       "min      0.000000    0.000000  \n",
       "25%      0.000000    7.910400  \n",
       "50%      0.000000   14.454200  \n",
       "75%      0.000000   31.000000  \n",
       "max      6.000000  512.329200  "
      ]
     },
     "execution_count": 87,
     "metadata": {},
     "output_type": "execute_result"
    }
   ],
   "source": [
    "# In[4]:\n",
    "\n",
    "\n",
    "# Get statistical summary of the numerical features\n",
    "# This provides metrics like mean, std, min, max, quartiles for numerical columns\n",
    "print(\"Statistical summary of numerical features:\")\n",
    "train_df.describe()"
   ]
  },
  {
   "cell_type": "code",
   "execution_count": null,
   "id": "516efced",
   "metadata": {},
   "outputs": [
    {
     "name": "stdout",
     "output_type": "stream",
     "text": [
      "Statistical summary of categorical features:\n"
     ]
    },
    {
     "data": {
      "text/html": [
       "<div>\n",
       "<style scoped>\n",
       "    .dataframe tbody tr th:only-of-type {\n",
       "        vertical-align: middle;\n",
       "    }\n",
       "\n",
       "    .dataframe tbody tr th {\n",
       "        vertical-align: top;\n",
       "    }\n",
       "\n",
       "    .dataframe thead th {\n",
       "        text-align: right;\n",
       "    }\n",
       "</style>\n",
       "<table border=\"1\" class=\"dataframe\">\n",
       "  <thead>\n",
       "    <tr style=\"text-align: right;\">\n",
       "      <th></th>\n",
       "      <th>Name</th>\n",
       "      <th>Sex</th>\n",
       "      <th>Ticket</th>\n",
       "      <th>Cabin</th>\n",
       "      <th>Embarked</th>\n",
       "    </tr>\n",
       "  </thead>\n",
       "  <tbody>\n",
       "    <tr>\n",
       "      <th>count</th>\n",
       "      <td>891</td>\n",
       "      <td>891</td>\n",
       "      <td>891</td>\n",
       "      <td>204</td>\n",
       "      <td>889</td>\n",
       "    </tr>\n",
       "    <tr>\n",
       "      <th>unique</th>\n",
       "      <td>891</td>\n",
       "      <td>2</td>\n",
       "      <td>681</td>\n",
       "      <td>147</td>\n",
       "      <td>3</td>\n",
       "    </tr>\n",
       "    <tr>\n",
       "      <th>top</th>\n",
       "      <td>Dooley, Mr. Patrick</td>\n",
       "      <td>male</td>\n",
       "      <td>347082</td>\n",
       "      <td>G6</td>\n",
       "      <td>S</td>\n",
       "    </tr>\n",
       "    <tr>\n",
       "      <th>freq</th>\n",
       "      <td>1</td>\n",
       "      <td>577</td>\n",
       "      <td>7</td>\n",
       "      <td>4</td>\n",
       "      <td>644</td>\n",
       "    </tr>\n",
       "  </tbody>\n",
       "</table>\n",
       "</div>"
      ],
      "text/plain": [
       "                       Name   Sex  Ticket Cabin Embarked\n",
       "count                   891   891     891   204      889\n",
       "unique                  891     2     681   147        3\n",
       "top     Dooley, Mr. Patrick  male  347082    G6        S\n",
       "freq                      1   577       7     4      644"
      ]
     },
     "execution_count": 88,
     "metadata": {},
     "output_type": "execute_result"
    }
   ],
   "source": [
    "# In[5]:\n",
    "\n",
    "\n",
    "# Get statistical summary of the categorical features\n",
    "# This shows count, unique values, top value, and its frequency for categorical columns\n",
    "print(\"Statistical summary of categorical features:\")\n",
    "train_df.describe(include=['O'])  # 'O' stands for Object data type (typically strings)"
   ]
  },
  {
   "cell_type": "code",
   "execution_count": null,
   "id": "309223a9",
   "metadata": {},
   "outputs": [],
   "source": [
    "# In[6]:\n",
    "\n",
    "\n",
    "# Check for missing values in the training dataset\n",
    "# This calculates the number and percentage of missing values for each column\n",
    "missing_train = train_df.isnull().sum().sort_values(ascending=False)\n",
    "missing_percent = (train_df.isnull().sum() / train_df.isnull().count()).sort_values(ascending=False)"
   ]
  },
  {
   "cell_type": "code",
   "execution_count": null,
   "id": "8c9bd355",
   "metadata": {},
   "outputs": [
    {
     "name": "stdout",
     "output_type": "stream",
     "text": [
      "Missing values in training dataset:\n"
     ]
    },
    {
     "data": {
      "text/html": [
       "<div>\n",
       "<style scoped>\n",
       "    .dataframe tbody tr th:only-of-type {\n",
       "        vertical-align: middle;\n",
       "    }\n",
       "\n",
       "    .dataframe tbody tr th {\n",
       "        vertical-align: top;\n",
       "    }\n",
       "\n",
       "    .dataframe thead th {\n",
       "        text-align: right;\n",
       "    }\n",
       "</style>\n",
       "<table border=\"1\" class=\"dataframe\">\n",
       "  <thead>\n",
       "    <tr style=\"text-align: right;\">\n",
       "      <th></th>\n",
       "      <th>Total</th>\n",
       "      <th>Percent</th>\n",
       "    </tr>\n",
       "  </thead>\n",
       "  <tbody>\n",
       "    <tr>\n",
       "      <th>Cabin</th>\n",
       "      <td>687</td>\n",
       "      <td>0.771044</td>\n",
       "    </tr>\n",
       "    <tr>\n",
       "      <th>Age</th>\n",
       "      <td>177</td>\n",
       "      <td>0.198653</td>\n",
       "    </tr>\n",
       "    <tr>\n",
       "      <th>Embarked</th>\n",
       "      <td>2</td>\n",
       "      <td>0.002245</td>\n",
       "    </tr>\n",
       "  </tbody>\n",
       "</table>\n",
       "</div>"
      ],
      "text/plain": [
       "          Total   Percent\n",
       "Cabin       687  0.771044\n",
       "Age         177  0.198653\n",
       "Embarked      2  0.002245"
      ]
     },
     "execution_count": 90,
     "metadata": {},
     "output_type": "execute_result"
    }
   ],
   "source": [
    "# Create a dataframe to show missing value information\n",
    "missing_data = pd.concat([missing_train, missing_percent], axis=1, keys=['Total', 'Percent'])\n",
    "print(\"Missing values in training dataset:\")\n",
    "missing_data[missing_data['Total'] > 0]  # Show only columns with missing values\n"
   ]
  },
  {
   "cell_type": "code",
   "execution_count": null,
   "id": "a91e9f12",
   "metadata": {},
   "outputs": [],
   "source": [
    "# ## 4. Missing Value Analysis and Visualization\n",
    "# \n",
    "# Let's visualize the missing values to better understand their distribution:\n",
    "\n",
    "# In[7]:"
   ]
  },
  {
   "cell_type": "code",
   "execution_count": null,
   "id": "7b6aa70d",
   "metadata": {},
   "outputs": [
    {
     "data": {
      "image/png": "[encoded data removed]",
      "text/plain": [
       "<Figure size 1200x600 with 1 Axes>"
      ]
     },
     "metadata": {},
     "output_type": "display_data"
    }
   ],
   "source": [
    "# Visualize missing values using a heatmap\n",
    "# This creates a visual representation of where missing values are in the dataset\n",
    "plt.figure(figsize=(12, 6))\n",
    "\n",
    "# sns.heatmap creates a heatmap, where each cell is colored based on its value\n",
    "# Here, we're coloring cells where values are missing\n",
    "sns.heatmap(train_df.isnull(), cbar=False, cmap='viridis', yticklabels=False)\n",
    "\n",
    "plt.title('Missing Values in Training Dataset', fontsize=16)\n",
    "plt.tight_layout()\n",
    "plt.show()"
   ]
  },
  {
   "cell_type": "code",
   "execution_count": null,
   "id": "0c5e67f5",
   "metadata": {},
   "outputs": [],
   "source": [
    "# Explanation: \n",
    "# - Yellow areas indicate missing values\n",
    "# - Purple areas indicate present values\n",
    "# - This visualization helps us see patterns in missing data"
   ]
  },
  {
   "cell_type": "code",
   "execution_count": null,
   "id": "31a536dd",
   "metadata": {},
   "outputs": [],
   "source": [
    "\n",
    "# ## 5. Data Cleaning and Preprocessing\n",
    "# \n",
    "# Now let's start cleaning the data and handling missing values:\n",
    "\n",
    "# In[8]:\n",
    "\n",
    "\n",
    "# Create a copy of the datasets to avoid modifying originals\n",
    "train = train_df.copy()\n",
    "test = test_df.copy()"
   ]
  },
  {
   "cell_type": "code",
   "execution_count": null,
   "id": "fdc099b2",
   "metadata": {},
   "outputs": [
    {
     "name": "stdout",
     "output_type": "stream",
     "text": [
      "Combined dataset shape: (1309, 12)\n"
     ]
    }
   ],
   "source": [
    "# Combine train and test for preprocessing (helps ensure consistent transformations)\n",
    "# We'll separate them again before training a model\n",
    "full_data = pd.concat([train, test], ignore_index=True)\n",
    "print(f\"Combined dataset shape: {full_data.shape}\")"
   ]
  },
  {
   "cell_type": "code",
   "execution_count": null,
   "id": "12f17726",
   "metadata": {},
   "outputs": [
    {
     "data": {
      "text/html": [
       "<div>\n",
       "<style scoped>\n",
       "    .dataframe tbody tr th:only-of-type {\n",
       "        vertical-align: middle;\n",
       "    }\n",
       "\n",
       "    .dataframe tbody tr th {\n",
       "        vertical-align: top;\n",
       "    }\n",
       "\n",
       "    .dataframe thead th {\n",
       "        text-align: right;\n",
       "    }\n",
       "</style>\n",
       "<table border=\"1\" class=\"dataframe\">\n",
       "  <thead>\n",
       "    <tr style=\"text-align: right;\">\n",
       "      <th></th>\n",
       "      <th>PassengerId</th>\n",
       "      <th>Survived</th>\n",
       "      <th>Pclass</th>\n",
       "      <th>Name</th>\n",
       "      <th>Sex</th>\n",
       "      <th>Age</th>\n",
       "      <th>SibSp</th>\n",
       "      <th>Parch</th>\n",
       "      <th>Ticket</th>\n",
       "      <th>Fare</th>\n",
       "      <th>Cabin</th>\n",
       "      <th>Embarked</th>\n",
       "    </tr>\n",
       "  </thead>\n",
       "  <tbody>\n",
       "    <tr>\n",
       "      <th>0</th>\n",
       "      <td>1</td>\n",
       "      <td>0.0</td>\n",
       "      <td>3</td>\n",
       "      <td>Braund, Mr. Owen Harris</td>\n",
       "      <td>male</td>\n",
       "      <td>22.0</td>\n",
       "      <td>1</td>\n",
       "      <td>0</td>\n",
       "      <td>A/5 21171</td>\n",
       "      <td>7.2500</td>\n",
       "      <td>NaN</td>\n",
       "      <td>S</td>\n",
       "    </tr>\n",
       "    <tr>\n",
       "      <th>1</th>\n",
       "      <td>2</td>\n",
       "      <td>1.0</td>\n",
       "      <td>1</td>\n",
       "      <td>Cumings, Mrs. John Bradley (Florence Briggs Th...</td>\n",
       "      <td>female</td>\n",
       "      <td>38.0</td>\n",
       "      <td>1</td>\n",
       "      <td>0</td>\n",
       "      <td>PC 17599</td>\n",
       "      <td>71.2833</td>\n",
       "      <td>C85</td>\n",
       "      <td>C</td>\n",
       "    </tr>\n",
       "    <tr>\n",
       "      <th>2</th>\n",
       "      <td>3</td>\n",
       "      <td>1.0</td>\n",
       "      <td>3</td>\n",
       "      <td>Heikkinen, Miss. Laina</td>\n",
       "      <td>female</td>\n",
       "      <td>26.0</td>\n",
       "      <td>0</td>\n",
       "      <td>0</td>\n",
       "      <td>STON/O2. 3101282</td>\n",
       "      <td>7.9250</td>\n",
       "      <td>NaN</td>\n",
       "      <td>S</td>\n",
       "    </tr>\n",
       "    <tr>\n",
       "      <th>3</th>\n",
       "      <td>4</td>\n",
       "      <td>1.0</td>\n",
       "      <td>1</td>\n",
       "      <td>Futrelle, Mrs. Jacques Heath (Lily May Peel)</td>\n",
       "      <td>female</td>\n",
       "      <td>35.0</td>\n",
       "      <td>1</td>\n",
       "      <td>0</td>\n",
       "      <td>113803</td>\n",
       "      <td>53.1000</td>\n",
       "      <td>C123</td>\n",
       "      <td>S</td>\n",
       "    </tr>\n",
       "    <tr>\n",
       "      <th>4</th>\n",
       "      <td>5</td>\n",
       "      <td>0.0</td>\n",
       "      <td>3</td>\n",
       "      <td>Allen, Mr. William Henry</td>\n",
       "      <td>male</td>\n",
       "      <td>35.0</td>\n",
       "      <td>0</td>\n",
       "      <td>0</td>\n",
       "      <td>373450</td>\n",
       "      <td>8.0500</td>\n",
       "      <td>NaN</td>\n",
       "      <td>S</td>\n",
       "    </tr>\n",
       "  </tbody>\n",
       "</table>\n",
       "</div>"
      ],
      "text/plain": [
       "   PassengerId  Survived  Pclass  \\\n",
       "0            1       0.0       3   \n",
       "1            2       1.0       1   \n",
       "2            3       1.0       3   \n",
       "3            4       1.0       1   \n",
       "4            5       0.0       3   \n",
       "\n",
       "                                                Name     Sex   Age  SibSp  \\\n",
       "0                            Braund, Mr. Owen Harris    male  22.0      1   \n",
       "1  Cumings, Mrs. John Bradley (Florence Briggs Th...  female  38.0      1   \n",
       "2                             Heikkinen, Miss. Laina  female  26.0      0   \n",
       "3       Futrelle, Mrs. Jacques Heath (Lily May Peel)  female  35.0      1   \n",
       "4                           Allen, Mr. William Henry    male  35.0      0   \n",
       "\n",
       "   Parch            Ticket     Fare Cabin Embarked  \n",
       "0      0         A/5 21171   7.2500   NaN        S  \n",
       "1      0          PC 17599  71.2833   C85        C  \n",
       "2      0  STON/O2. 3101282   7.9250   NaN        S  \n",
       "3      0            113803  53.1000  C123        S  \n",
       "4      0            373450   8.0500   NaN        S  "
      ]
     },
     "execution_count": 96,
     "metadata": {},
     "output_type": "execute_result"
    }
   ],
   "source": [
    "# Check the new combined dataset\n",
    "full_data.head()"
   ]
  },
  {
   "cell_type": "code",
   "execution_count": null,
   "id": "0a663cac",
   "metadata": {},
   "outputs": [
    {
     "data": {
      "image/png": "[encoded data removed]",
      "text/plain": [
       "<Figure size 1400x600 with 1 Axes>"
      ]
     },
     "metadata": {},
     "output_type": "display_data"
    }
   ],
   "source": [
    "\n",
    "# ### 5.1 Handling Missing Values\n",
    "\n",
    "# In[9]:\n",
    "\n",
    "\n",
    "# Let's handle missing values for each feature with missing data\n",
    "\n",
    "# 1. Age: Missing in both train and test\n",
    "# Let's impute age using median age by passenger class and sex\n",
    "# This is more precise than using the overall median\n",
    "\n",
    "# First, let's explore the relationship between Age, Pclass, and Sex\n",
    "plt.figure(figsize=(14, 6))\n",
    "\n",
    "# Create a boxplot showing Age distribution by Pclass and Sex\n",
    "# This helps visualize if these features relate to Age\n",
    "sns.boxplot(x='Pclass', y='Age', hue='Sex', data=full_data)\n",
    "plt.title('Age Distribution by Passenger Class and Sex', fontsize=16)\n",
    "plt.show()\n"
   ]
  },
  {
   "cell_type": "code",
   "execution_count": null,
   "id": "a344f749",
   "metadata": {},
   "outputs": [
    {
     "data": {
      "image/png": "[encoded data removed]",
      "text/plain": [
       "<Figure size 1200x800 with 1 Axes>"
      ]
     },
     "metadata": {},
     "output_type": "display_data"
    }
   ],
   "source": [
    "# Create a boxplot showing Age distribution by Pclass and Sex\n",
    "# This helps visualize if these features relate to Age\n",
    "sns.boxplot(x='Pclass', y='Age', hue='Sex', data=full_data)\n",
    "plt.title('Age Distribution by Passenger Class and Sex', fontsize=16)\n",
    "plt.show()"
   ]
  },
  {
   "cell_type": "code",
   "execution_count": null,
   "id": "c4fc0fa4",
   "metadata": {},
   "outputs": [],
   "source": [
    "# Based on the boxplot, we'll use Pclass and Sex to impute Age\n",
    "\n",
    "\n",
    "# In[10]:\n",
    "\n",
    "\n",
    "# Create a function to impute missing ages based on passenger class and sex\n",
    "def impute_age(data):\n",
    "    # Group by Sex and Pclass and calculate median age for each group\n",
    "    age_median = data.groupby(['Sex', 'Pclass'])['Age'].transform('median')\n",
    "    \n",
    "    # Fill missing age values with the calculated medians\n",
    "    data['Age'] = data['Age'].fillna(age_median)\n",
    "    \n",
    "    return data"
   ]
  },
  {
   "cell_type": "code",
   "execution_count": null,
   "id": "94daaa49",
   "metadata": {},
   "outputs": [],
   "source": [
    "# Apply the function to our dataset\n",
    "full_data = impute_age(full_data)"
   ]
  },
  {
   "cell_type": "code",
   "execution_count": null,
   "id": "fec06504",
   "metadata": {},
   "outputs": [
    {
     "name": "stdout",
     "output_type": "stream",
     "text": [
      "Missing values in Age after imputation: 0\n"
     ]
    }
   ],
   "source": [
    "# Verify the imputation worked\n",
    "print(\"Missing values in Age after imputation:\", full_data['Age'].isnull().sum())"
   ]
  },
  {
   "cell_type": "code",
   "execution_count": null,
   "id": "e9665f50",
   "metadata": {},
   "outputs": [
    {
     "name": "stdout",
     "output_type": "stream",
     "text": [
      "Most common embarked port: S\n"
     ]
    }
   ],
   "source": [
    "# In[11]:\n",
    "\n",
    "\n",
    "# 2. Embarked: Missing in train only (2 values)\n",
    "# Since this is a categorical variable with very few missing values,\n",
    "# we'll fill with the most common value (mode)\n",
    "\n",
    "# Find the most common embarked value\n",
    "most_common_embarked = full_data['Embarked'].mode()[0]\n",
    "print(f\"Most common embarked port: {most_common_embarked}\")"
   ]
  },
  {
   "cell_type": "code",
   "execution_count": null,
   "id": "1ee7abb7",
   "metadata": {},
   "outputs": [],
   "source": [
    "# Fill missing Embarked values\n",
    "full_data['Embarked'] = full_data['Embarked'].fillna(most_common_embarked)"
   ]
  },
  {
   "cell_type": "code",
   "execution_count": null,
   "id": "fff61549",
   "metadata": {},
   "outputs": [
    {
     "name": "stdout",
     "output_type": "stream",
     "text": [
      "Missing values in Embarked after imputation: 0\n"
     ]
    }
   ],
   "source": [
    "# Verify the imputation worked\n",
    "print(\"Missing values in Embarked after imputation:\", full_data['Embarked'].isnull().sum())"
   ]
  },
  {
   "cell_type": "code",
   "execution_count": null,
   "id": "a225628d",
   "metadata": {},
   "outputs": [],
   "source": [
    "\n",
    "# In[12]:\n",
    "\n",
    "\n",
    "# 3. Fare: Missing in test only (1 value)\n",
    "# Let's impute using the median fare for the passenger's class"
   ]
  },
  {
   "cell_type": "code",
   "execution_count": null,
   "id": "6dd57889",
   "metadata": {},
   "outputs": [
    {
     "name": "stdout",
     "output_type": "stream",
     "text": [
      "Missing fare for passenger:       PassengerId  Pclass   Sex   Age\n",
      "1043         1044       3  male  60.5\n"
     ]
    }
   ],
   "source": [
    "\n",
    "# First, identify the missing fare row\n",
    "missing_fare_row = full_data[full_data['Fare'].isnull()]\n",
    "print(\"Missing fare for passenger:\", missing_fare_row[['PassengerId', 'Pclass', 'Sex', 'Age']])"
   ]
  },
  {
   "cell_type": "code",
   "execution_count": null,
   "id": "53bb9146",
   "metadata": {},
   "outputs": [
    {
     "name": "stdout",
     "output_type": "stream",
     "text": [
      "Median fare for Pclass 3: 8.05\n"
     ]
    }
   ],
   "source": [
    "# Calculate median fare for the missing passenger's class\n",
    "median_fare = full_data[full_data['Pclass'] == missing_fare_row['Pclass'].values[0]]['Fare'].median()\n",
    "print(f\"Median fare for Pclass {missing_fare_row['Pclass'].values[0]}: {median_fare}\")"
   ]
  },
  {
   "cell_type": "code",
   "execution_count": null,
   "id": "89e6b17c",
   "metadata": {},
   "outputs": [],
   "source": [
    "# Fill the missing fare\n",
    "full_data['Fare'] = full_data['Fare'].fillna(median_fare)"
   ]
  },
  {
   "cell_type": "code",
   "execution_count": null,
   "id": "21c3d570",
   "metadata": {},
   "outputs": [
    {
     "name": "stdout",
     "output_type": "stream",
     "text": [
      "Missing values in Fare after imputation: 0\n"
     ]
    }
   ],
   "source": [
    "# Verify the imputation worked\n",
    "print(\"Missing values in Fare after imputation:\", full_data['Fare'].isnull().sum())"
   ]
  },
  {
   "cell_type": "code",
   "execution_count": null,
   "id": "b5f708a9",
   "metadata": {},
   "outputs": [],
   "source": [
    "\n",
    "# In[13]:\n",
    "\n",
    "\n",
    "# 4. Cabin: Missing in both train and test (high percentage)\n",
    "# Since most values are missing, we'll create a new feature indicating\n",
    "# whether Cabin is missing or not, as this might relate to survival\n",
    "\n",
    "# Create a feature for whether Cabin is known\n",
    "full_data['HasCabin'] = full_data['Cabin'].notna().astype(int)"
   ]
  },
  {
   "cell_type": "code",
   "execution_count": null,
   "id": "b2678c44",
   "metadata": {},
   "outputs": [
    {
     "name": "stdout",
     "output_type": "stream",
     "text": [
      "Cabin known vs unknown:\n",
      "HasCabin\n",
      "0    1014\n",
      "1     295\n",
      "Name: count, dtype: int64\n"
     ]
    }
   ],
   "source": [
    "# Verify the new feature\n",
    "print(\"Cabin known vs unknown:\")\n",
    "print(full_data['HasCabin'].value_counts())"
   ]
  },
  {
   "cell_type": "code",
   "execution_count": null,
   "id": "3711ed1c",
   "metadata": {},
   "outputs": [
    {
     "name": "stdout",
     "output_type": "stream",
     "text": [
      "Remaining missing values:\n"
     ]
    },
    {
     "data": {
      "text/plain": [
       "Cabin       1014\n",
       "Survived     418\n",
       "dtype: int64"
      ]
     },
     "execution_count": 112,
     "metadata": {},
     "output_type": "execute_result"
    }
   ],
   "source": [
    "# In[14]:\n",
    "\n",
    "\n",
    "# Check remaining missing values\n",
    "missing = full_data.isnull().sum().sort_values(ascending=False)\n",
    "print(\"Remaining missing values:\")\n",
    "missing[missing > 0]"
   ]
  },
  {
   "cell_type": "code",
   "execution_count": null,
   "id": "7b40103b",
   "metadata": {},
   "outputs": [],
   "source": [
    "# ### 5.2 Feature Engineering\n",
    "# \n",
    "# Let's create some new features that might help in predicting survival:\n",
    "\n",
    "# In[15]:\n",
    "\n",
    "\n",
    "# 1. Extract titles from passenger names\n",
    "# Titles might indicate social status and relate to survival"
   ]
  },
  {
   "cell_type": "code",
   "execution_count": null,
   "id": "5efa4034",
   "metadata": {},
   "outputs": [],
   "source": [
    "# Use string operations to extract the title from the Name column\n",
    "# Regular expression: extract what's between a comma and a dot\n",
    "full_data['Title'] = full_data['Name'].str.extract(' ([A-Za-z]+)\\.', expand=False)"
   ]
  },
  {
   "cell_type": "code",
   "execution_count": null,
   "id": "2d0a4e0b",
   "metadata": {},
   "outputs": [
    {
     "name": "stdout",
     "output_type": "stream",
     "text": [
      "Title distribution:\n"
     ]
    },
    {
     "data": {
      "text/plain": [
       "Title\n",
       "Mr          757\n",
       "Miss        260\n",
       "Mrs         197\n",
       "Master       61\n",
       "Rev           8\n",
       "Dr            8\n",
       "Col           4\n",
       "Major         2\n",
       "Mlle          2\n",
       "Ms            2\n",
       "Mme           1\n",
       "Don           1\n",
       "Sir           1\n",
       "Lady          1\n",
       "Capt          1\n",
       "Countess      1\n",
       "Jonkheer      1\n",
       "Dona          1\n",
       "Name: count, dtype: int64"
      ]
     },
     "execution_count": 115,
     "metadata": {},
     "output_type": "execute_result"
    }
   ],
   "source": [
    "# View the distribution of titles\n",
    "print(\"Title distribution:\")\n",
    "full_data['Title'].value_counts()\n"
   ]
  },
  {
   "cell_type": "code",
   "execution_count": null,
   "id": "49cc0150",
   "metadata": {},
   "outputs": [],
   "source": [
    "# In[16]:"
   ]
  },
  {
   "cell_type": "code",
   "execution_count": null,
   "id": "bd0db812",
   "metadata": {},
   "outputs": [],
   "source": [
    "# Group rare titles into broader categories for better analysis\n",
    "# Map the titles to more general categories\n",
    "\n",
    "# Create a mapping of titles to categories\n",
    "title_mapping = {\n",
    "    'Mr': 'Mr',\n",
    "    'Miss': 'Miss',\n",
    "    'Mrs': 'Mrs',\n",
    "    'Master': 'Master',\n",
    "    'Dr': 'Officer',\n",
    "    'Rev': 'Officer',\n",
    "    'Col': 'Officer',\n",
    "    'Major': 'Officer',\n",
    "    'Mlle': 'Miss',\n",
    "    'Mme': 'Mrs',\n",
    "    'Don': 'Royalty',\n",
    "    'Sir': 'Royalty',\n",
    "    'Lady': 'Royalty',\n",
    "    'Countess': 'Royalty',\n",
    "    'Jonkheer': 'Royalty',\n",
    "    'Dona': 'Royalty',\n",
    "    'Capt': 'Officer',\n",
    "    'Ms': 'Miss'\n",
    "}"
   ]
  },
  {
   "cell_type": "code",
   "execution_count": null,
   "id": "89025f11",
   "metadata": {},
   "outputs": [],
   "source": [
    "# Apply the mapping to the Title column\n",
    "full_data['Title'] = full_data['Title'].map(title_mapping)"
   ]
  },
  {
   "cell_type": "code",
   "execution_count": null,
   "id": "b96ee455",
   "metadata": {},
   "outputs": [],
   "source": [
    "# Fill any potential missing titles with 'Other'\n",
    "full_data['Title'] = full_data['Title'].fillna('Other')"
   ]
  },
  {
   "cell_type": "code",
   "execution_count": null,
   "id": "e6073f06",
   "metadata": {},
   "outputs": [
    {
     "name": "stdout",
     "output_type": "stream",
     "text": [
      "Grouped title distribution:\n"
     ]
    },
    {
     "data": {
      "text/plain": [
       "Title\n",
       "Mr         757\n",
       "Miss       264\n",
       "Mrs        198\n",
       "Master      61\n",
       "Officer     23\n",
       "Royalty      6\n",
       "Name: count, dtype: int64"
      ]
     },
     "execution_count": 120,
     "metadata": {},
     "output_type": "execute_result"
    }
   ],
   "source": [
    "# Check the new title distribution\n",
    "print(\"Grouped title distribution:\")\n",
    "full_data['Title'].value_counts()"
   ]
  },
  {
   "cell_type": "code",
   "execution_count": null,
   "id": "111ec907",
   "metadata": {},
   "outputs": [],
   "source": [
    "# In[17]:\n",
    "\n",
    "\n",
    "# 2. Create a family size feature\n",
    "# Family size could impact survival chances"
   ]
  },
  {
   "cell_type": "code",
   "execution_count": null,
   "id": "da712250",
   "metadata": {},
   "outputs": [],
   "source": [
    "# Sum the number of siblings/spouses and parents/children\n",
    "# Add 1 to include the passenger themselves\n",
    "full_data['FamilySize'] = full_data['SibSp'] + full_data['Parch'] + 1"
   ]
  },
  {
   "cell_type": "code",
   "execution_count": null,
   "id": "16429ee8",
   "metadata": {},
   "outputs": [],
   "source": [
    "# Create a feature for whether passenger is alone\n",
    "full_data['IsAlone'] = (full_data['FamilySize'] == 1).astype(int)"
   ]
  },
  {
   "cell_type": "code",
   "execution_count": null,
   "id": "8aca355b",
   "metadata": {},
   "outputs": [
    {
     "name": "stdout",
     "output_type": "stream",
     "text": [
      "Family size distribution:\n"
     ]
    },
    {
     "data": {
      "text/plain": [
       "<bound method Series.sort_index of FamilySize\n",
       "1     790\n",
       "2     235\n",
       "3     159\n",
       "4      43\n",
       "6      25\n",
       "5      22\n",
       "7      16\n",
       "11     11\n",
       "8       8\n",
       "Name: count, dtype: int64>"
      ]
     },
     "execution_count": 124,
     "metadata": {},
     "output_type": "execute_result"
    }
   ],
   "source": [
    "# Verify the new features\n",
    "print(\"Family size distribution:\")\n",
    "full_data['FamilySize'].value_counts().sort_index"
   ]
  },
  {
   "cell_type": "code",
   "execution_count": null,
   "id": "f6f4b410",
   "metadata": {},
   "outputs": [],
   "source": [
    "# In[18]:\n",
    "\n",
    "\n",
    "\n",
    "\n"
   ]
  },
  {
   "cell_type": "code",
   "execution_count": null,
   "id": "182533fa",
   "metadata": {},
   "outputs": [],
   "source": [
    "# 3. Create age groups for better visualization and analysis\n",
    "# Binning continuous variables can sometimes improve model performance\n",
    "# and makes visualization easier\n",
    "\n",
    "# Define age group bins and labels\n",
    "age_bins = [0, 12, 18, 35, 60, 100]\n",
    "age_labels = ['Child', 'Teen', 'Young Adult', 'Adult', 'Senior']\n",
    "\n"
   ]
  },
  {
   "cell_type": "code",
   "execution_count": null,
   "id": "291248ee",
   "metadata": {},
   "outputs": [],
   "source": [
    "# In[19]:\n",
    "\n",
    "\n",
    "# 4. Create fare ranges for better analysis\n",
    "\n",
    "# Define fare group bins and labels\n",
    "fare_bins = [0, 7.91, 14.45, 31, 600]\n",
    "fare_labels = ['Low', 'Mid-Low', 'Mid-High', 'High']"
   ]
  },
  {
   "cell_type": "code",
   "execution_count": null,
   "id": "1babc4d1",
   "metadata": {},
   "outputs": [],
   "source": [
    "# Create the fare range feature\n",
    "full_data['FareRange'] = pd.cut(full_data['Fare'], bins=fare_bins, labels=fare_labels)"
   ]
  },
  {
   "cell_type": "code",
   "execution_count": null,
   "id": "cb5c31af",
   "metadata": {},
   "outputs": [
    {
     "name": "stdout",
     "output_type": "stream",
     "text": [
      "Fare range distribution:\n"
     ]
    },
    {
     "data": {
      "text/plain": [
       "FareRange\n",
       "Mid-High    331\n",
       "High        330\n",
       "Low         320\n",
       "Mid-Low     311\n",
       "Name: count, dtype: int64"
      ]
     },
     "execution_count": 129,
     "metadata": {},
     "output_type": "execute_result"
    }
   ],
   "source": [
    "\n",
    "# View the distribution of fare ranges\n",
    "print(\"Fare range distribution:\")\n",
    "full_data['FareRange'].value_counts()"
   ]
  },
  {
   "cell_type": "code",
   "execution_count": null,
   "id": "ca2bb351",
   "metadata": {},
   "outputs": [],
   "source": [
    "\n",
    "# In[20]:\n",
    "\n",
    "\n",
    "# 5. Create a feature for the deck based on cabin letter\n",
    "# The first letter of the cabin number indicates the deck"
   ]
  },
  {
   "cell_type": "code",
   "execution_count": null,
   "id": "295d1bc7",
   "metadata": {},
   "outputs": [],
   "source": [
    "# Extract the deck letter from Cabin\n",
    "full_data['Deck'] = full_data['Cabin'].str.slice(0, 1)"
   ]
  },
  {
   "cell_type": "code",
   "execution_count": null,
   "id": "5e16bec7",
   "metadata": {},
   "outputs": [],
   "source": [
    "# Fill missing values with 'U' for Unknown\n",
    "full_data['Deck'] = full_data['Deck'].fillna('U')\n"
   ]
  },
  {
   "cell_type": "code",
   "execution_count": null,
   "id": "b4437bd5",
   "metadata": {},
   "outputs": [
    {
     "name": "stdout",
     "output_type": "stream",
     "text": [
      "Deck distribution:\n"
     ]
    },
    {
     "data": {
      "text/plain": [
       "Deck\n",
       "U    1014\n",
       "C      94\n",
       "B      65\n",
       "D      46\n",
       "E      41\n",
       "A      22\n",
       "F      21\n",
       "G       5\n",
       "T       1\n",
       "Name: count, dtype: int64"
      ]
     },
     "execution_count": 133,
     "metadata": {},
     "output_type": "execute_result"
    }
   ],
   "source": [
    "# View the distribution of decks\n",
    "print(\"Deck distribution:\")\n",
    "full_data['Deck'].value_counts()"
   ]
  },
  {
   "cell_type": "code",
   "execution_count": null,
   "id": "67cd65f3",
   "metadata": {},
   "outputs": [],
   "source": [
    "\n",
    "# In[21]:\n",
    "\n",
    "\n",
    "# Let's create categorical encodings for some features\n",
    "# This converts categorical variables to numeric for modeling\n",
    "\n",
    "# One-hot encode Sex, Embarked, and Title\n",
    "# pd.get_dummies() creates binary columns for each category\n",
    "categorical_features = ['Sex', 'Embarked', 'Title', 'Deck']\n",
    "for feature in categorical_features:\n",
    "    dummies = pd.get_dummies(full_data[feature], prefix=feature, drop_first=True)\n",
    "    full_data = pd.concat([full_data, dummies], axis=1)"
   ]
  },
  {
   "cell_type": "code",
   "execution_count": null,
   "id": "92dc52f5",
   "metadata": {},
   "outputs": [
    {
     "name": "stdout",
     "output_type": "stream",
     "text": [
      "Full data shape after adding dummy variables: (1309, 34)\n",
      "\n",
      "Sample of dummy variables: ['Embarked_Q', 'Embarked_S', 'Title_Miss', 'Title_Mr', 'Title_Mrs', 'Title_Officer', 'Title_Royalty', 'Deck_B', 'Deck_C', 'Deck_D', 'Deck_E', 'Deck_F', 'Deck_G', 'Deck_T', 'Deck_U']\n"
     ]
    }
   ],
   "source": [
    "# Check the newly created dummy variables\n",
    "print(\"Full data shape after adding dummy variables:\", full_data.shape)\n",
    "# Let's see some of the dummy variables\n",
    "print(\"\\nSample of dummy variables:\", list(full_data.columns[-15:]))"
   ]
  },
  {
   "cell_type": "code",
   "execution_count": null,
   "id": "3aa8fd21",
   "metadata": {},
   "outputs": [
    {
     "name": "stdout",
     "output_type": "stream",
     "text": [
      "Processed training data shape: (891, 34)\n",
      "Processed test data shape: (418, 34)\n"
     ]
    }
   ],
   "source": [
    "\n",
    "# In[22]:\n",
    "\n",
    "\n",
    "# Let's split back into train and test datasets\n",
    "train_processed = full_data[:len(train_df)]\n",
    "test_processed = full_data[len(train_df):]\n",
    "\n",
    "print(f\"Processed training data shape: {train_processed.shape}\")\n",
    "print(f\"Processed test data shape: {test_processed.shape}\")"
   ]
  },
  {
   "cell_type": "code",
   "execution_count": null,
   "id": "9d59bb91",
   "metadata": {},
   "outputs": [
    {
     "data": {
      "text/plain": [
       "<Figure size 800x600 with 0 Axes>"
      ]
     },
     "execution_count": 137,
     "metadata": {},
     "output_type": "execute_result"
    },
    {
     "data": {
      "text/plain": [
       "<Figure size 800x600 with 0 Axes>"
      ]
     },
     "metadata": {},
     "output_type": "display_data"
    }
   ],
   "source": [
    "# ## 6. Exploratory Data Visualization\n",
    "# \n",
    "# Now let's visualize the data to gain insights about factors affecting survival:\n",
    "\n",
    "# ### 6.1 Overall Survival Rate\n",
    "\n",
    "# In[23]:\n",
    "\n",
    "\n",
    "# Visualize the overall survival rate\n",
    "plt.figure(figsize=(8, 6))"
   ]
  },
  {
   "cell_type": "code",
   "execution_count": null,
   "id": "0753607e",
   "metadata": {},
   "outputs": [
    {
     "data": {
      "image/png": "[encoded data removed]",
      "text/plain": [
       "<Figure size 1200x800 with 1 Axes>"
      ]
     },
     "metadata": {},
     "output_type": "display_data"
    },
    {
     "name": "stdout",
     "output_type": "stream",
     "text": [
      "Survival rate: 38.38%\n"
     ]
    }
   ],
   "source": [
    " #Create a pie chart of survival counts\n",
    "# autopct adds percentage labels, startangle rotates the chart\n",
    "survival_counts = train_processed['Survived'].value_counts()\n",
    "plt.pie(survival_counts, labels=['Did Not Survive', 'Survived'], \n",
    "        autopct='%1.1f%%', startangle=90, colors=['#ff9999','#66b3ff'])\n",
    "\n",
    "plt.title('Titanic Survival Rate', fontsize=16)\n",
    "plt.axis('equal')  # Equal aspect ratio ensures the pie chart is circular\n",
    "plt.show()\n",
    "\n",
    "print(f\"Survival rate: {survival_counts[1] / sum(survival_counts):.2%}\")"
   ]
  },
  {
   "cell_type": "code",
   "execution_count": null,
   "id": "55bccde1",
   "metadata": {},
   "outputs": [
    {
     "data": {
      "text/plain": [
       "<Figure size 1000x600 with 0 Axes>"
      ]
     },
     "execution_count": 139,
     "metadata": {},
     "output_type": "execute_result"
    },
    {
     "data": {
      "text/plain": [
       "<Figure size 1000x600 with 0 Axes>"
      ]
     },
     "metadata": {},
     "output_type": "display_data"
    }
   ],
   "source": [
    "# ### 6.2 Survival by Passenger Class\n",
    "\n",
    "# In[24]:\n",
    "\n",
    "\n",
    "# Visualize survival rate by passenger class\n",
    "plt.figure(figsize=(10, 6))"
   ]
  },
  {
   "cell_type": "code",
   "execution_count": null,
   "id": "a09f370f",
   "metadata": {},
   "outputs": [
    {
     "data": {
      "text/plain": [
       "<matplotlib.legend.Legend at 0x1e339d4a300>"
      ]
     },
     "execution_count": 140,
     "metadata": {},
     "output_type": "execute_result"
    },
    {
     "data": {
      "image/png": "[encoded data removed]",
      "text/plain": [
       "<Figure size 1200x800 with 1 Axes>"
      ]
     },
     "metadata": {},
     "output_type": "display_data"
    }
   ],
   "source": [
    "# Create a grouped bar chart for survival by class\n",
    "# countplot automatically counts occurrences of categories\n",
    "sns.countplot(x='Pclass', hue='Survived', data=train_processed, \n",
    "              palette=['#ff9999','#66b3ff'])\n",
    "\n",
    "plt.title('Survival by Passenger Class', fontsize=16)\n",
    "plt.xlabel('Passenger Class', fontsize=14)\n",
    "plt.ylabel('Count', fontsize=14)\n",
    "plt.legend(title='Survived', labels=['No', 'Yes'])\n"
   ]
  },
  {
   "cell_type": "code",
   "execution_count": null,
   "id": "8891c61c",
   "metadata": {},
   "outputs": [
    {
     "data": {
      "image/png": "[encoded data removed]",
      "text/plain": [
       "<Figure size 1200x800 with 1 Axes>"
      ]
     },
     "metadata": {},
     "output_type": "display_data"
    }
   ],
   "source": [
    "# Add count labels on top of each bar\n",
    "for p in plt.gca().patches:\n",
    "    plt.gca().annotate(f'{p.get_height()}', \n",
    "                       (p.get_x() + p.get_width() / 2., p.get_height()),\n",
    "                       ha = 'center', va = 'bottom', fontsize=10)\n",
    "\n",
    "plt.show()"
   ]
  },
  {
   "cell_type": "code",
   "execution_count": null,
   "id": "e4bc3e38",
   "metadata": {},
   "outputs": [
    {
     "name": "stdout",
     "output_type": "stream",
     "text": [
      "Survival rate by passenger class:\n",
      "Class 1: 62.96%\n",
      "Class 2: 47.28%\n",
      "Class 3: 24.24%\n"
     ]
    }
   ],
   "source": [
    "\n",
    "# Calculate and display survival rates by class\n",
    "class_survival = train_processed.groupby('Pclass')['Survived'].mean().sort_values(ascending=False)\n",
    "print(\"Survival rate by passenger class:\")\n",
    "for pclass, rate in class_survival.items():\n",
    "    print(f\"Class {pclass}: {rate:.2%}\")"
   ]
  },
  {
   "cell_type": "code",
   "execution_count": null,
   "id": "4e1c4ba6",
   "metadata": {},
   "outputs": [
    {
     "data": {
      "text/plain": [
       "<Figure size 1000x600 with 0 Axes>"
      ]
     },
     "execution_count": 143,
     "metadata": {},
     "output_type": "execute_result"
    },
    {
     "data": {
      "text/plain": [
       "<Figure size 1000x600 with 0 Axes>"
      ]
     },
     "metadata": {},
     "output_type": "display_data"
    }
   ],
   "source": [
    "\n",
    "# ### 6.3 Survival by Gender\n",
    "\n",
    "# In[25]:\n",
    "\n",
    "\n",
    "# Visualize survival rate by gender\n",
    "plt.figure(figsize=(10, 6))"
   ]
  },
  {
   "cell_type": "code",
   "execution_count": null,
   "id": "64d972ef",
   "metadata": {},
   "outputs": [
    {
     "data": {
      "text/plain": [
       "<matplotlib.legend.Legend at 0x1e339d8b020>"
      ]
     },
     "execution_count": 144,
     "metadata": {},
     "output_type": "execute_result"
    },
    {
     "data": {
      "image/png": "[encoded data removed]",
      "text/plain": [
       "<Figure size 1200x800 with 1 Axes>"
      ]
     },
     "metadata": {},
     "output_type": "display_data"
    }
   ],
   "source": [
    "# Create a grouped bar chart for survival by gender\n",
    "sns.countplot(x='Sex', hue='Survived', data=train_processed, \n",
    "              palette=['#ff9999','#66b3ff'])\n",
    "\n",
    "plt.title('Survival by Gender', fontsize=16)\n",
    "plt.xlabel('Sex', fontsize=14)\n",
    "plt.ylabel('Count', fontsize=14)\n",
    "plt.legend(title='Survived', labels=['No', 'Yes'])"
   ]
  },
  {
   "cell_type": "code",
   "execution_count": null,
   "id": "1013254b",
   "metadata": {},
   "outputs": [
    {
     "data": {
      "image/png": "[encoded data removed]",
      "text/plain": [
       "<Figure size 1200x800 with 1 Axes>"
      ]
     },
     "metadata": {},
     "output_type": "display_data"
    }
   ],
   "source": [
    "# Add count labels on top of each bar\n",
    "for p in plt.gca().patches:\n",
    "    plt.gca().annotate(f'{p.get_height()}', \n",
    "                       (p.get_x() + p.get_width() / 2., p.get_height()),\n",
    "                       ha = 'center', va = 'bottom', fontsize=10)\n",
    "\n",
    "plt.show()\n"
   ]
  },
  {
   "cell_type": "code",
   "execution_count": null,
   "id": "745d5644",
   "metadata": {},
   "outputs": [
    {
     "name": "stdout",
     "output_type": "stream",
     "text": [
      "Survival rate by gender:\n",
      "female: 74.20%\n",
      "male: 18.89%\n"
     ]
    }
   ],
   "source": [
    "# Calculate and display survival rates by gender\n",
    "gender_survival = train_processed.groupby('Sex')['Survived'].mean().sort_values(ascending=False)\n",
    "print(\"Survival rate by gender:\")\n",
    "for gender, rate in gender_survival.items():\n",
    "    print(f\"{gender}: {rate:.2%}\")"
   ]
  },
  {
   "cell_type": "code",
   "execution_count": null,
   "id": "976c9f1b",
   "metadata": {},
   "outputs": [
    {
     "data": {
      "text/plain": [
       "<Figure size 1200x800 with 0 Axes>"
      ]
     },
     "execution_count": 147,
     "metadata": {},
     "output_type": "execute_result"
    },
    {
     "data": {
      "text/plain": [
       "<Figure size 1200x800 with 0 Axes>"
      ]
     },
     "metadata": {},
     "output_type": "display_data"
    }
   ],
   "source": [
    "# ### 6.4 Survival by Age\n",
    "\n",
    "# In[26]:\n",
    "\n",
    "\n",
    "# Visualize survival by age distribution\n",
    "plt.figure(figsize=(12, 8))"
   ]
  },
  {
   "cell_type": "code",
   "execution_count": null,
   "id": "72cca24c",
   "metadata": {},
   "outputs": [
    {
     "data": {
      "image/png": "[encoded data removed]",
      "text/plain": [
       "<Figure size 1200x600 with 2 Axes>"
      ]
     },
     "metadata": {},
     "output_type": "display_data"
    }
   ],
   "source": [
    "# Create a FacetGrid to separate survived vs not survived\n",
    "# This makes two separate plots based on the 'Survived' value\n",
    "g = sns.FacetGrid(train_processed, col='Survived', height=6)\n",
    "g.map(sns.histplot, 'Age', kde=True, bins=25)  # Plot age distribution for each category\n",
    "\n",
    "plt.suptitle('Age Distribution by Survival', fontsize=16, y=1.05)\n",
    "plt.tight_layout()\n",
    "plt.show()"
   ]
  },
  {
   "cell_type": "code",
   "execution_count": null,
   "id": "d578db6d",
   "metadata": {},
   "outputs": [
    {
     "data": {
      "image/png": "[encoded data removed]",
      "text/plain": [
       "<Figure size 1200x600 with 2 Axes>"
      ]
     },
     "metadata": {},
     "output_type": "display_data"
    }
   ],
   "source": [
    "# Create a FacetGrid to separate survived vs not survived\n",
    "# This makes two separate plots based on the 'Survived' value\n",
    "g = sns.FacetGrid(train_processed, col='Survived', height=6)\n",
    "g.map(sns.histplot, 'Age', kde=True, bins=25)  # Plot age distribution for each category\n",
    "\n",
    "plt.suptitle('Age Distribution by Survival', fontsize=16, y=1.05)\n",
    "plt.tight_layout()\n",
    "plt.show()"
   ]
  },
  {
   "cell_type": "code",
   "execution_count": null,
   "id": "cbfa2cf2",
   "metadata": {},
   "outputs": [
    {
     "data": {
      "text/plain": [
       "<Figure size 1000x600 with 0 Axes>"
      ]
     },
     "execution_count": 150,
     "metadata": {},
     "output_type": "execute_result"
    },
    {
     "data": {
      "text/plain": [
       "<Figure size 1000x600 with 0 Axes>"
      ]
     },
     "metadata": {},
     "output_type": "display_data"
    }
   ],
   "source": [
    " #In[27]:\n",
    "\n",
    "\n",
    "# Visualize survival rate by age group\n",
    "plt.figure(figsize=(10, 6))"
   ]
  },
  {
   "cell_type": "code",
   "execution_count": null,
   "id": "9ac9a48d",
   "metadata": {},
   "outputs": [
    {
     "ename": "ValueError",
     "evalue": "Could not interpret value `AgeGroup` for `x`. An entry with this name does not appear in `data`.",
     "output_type": "error",
     "traceback": [
      "\u001b[31m---------------------------------------------------------------------------\u001b[39m",
      "\u001b[31mValueError\u001b[39m                                Traceback (most recent call last)",
      "\u001b[36mCell\u001b[39m\u001b[36m \u001b[39m\u001b[32mIn[151]\u001b[39m\u001b[32m, line 2\u001b[39m\n\u001b[32m      1\u001b[39m \u001b[38;5;66;03m# Create a grouped bar chart for survival by age group\u001b[39;00m\n\u001b[32m----> \u001b[39m\u001b[32m2\u001b[39m \u001b[43msns\u001b[49m\u001b[43m.\u001b[49m\u001b[43mcountplot\u001b[49m\u001b[43m(\u001b[49m\u001b[43mx\u001b[49m\u001b[43m=\u001b[49m\u001b[33;43m'\u001b[39;49m\u001b[33;43mAgeGroup\u001b[39;49m\u001b[33;43m'\u001b[39;49m\u001b[43m,\u001b[49m\u001b[43m \u001b[49m\u001b[43mhue\u001b[49m\u001b[43m=\u001b[49m\u001b[33;43m'\u001b[39;49m\u001b[33;43mSurvived\u001b[39;49m\u001b[33;43m'\u001b[39;49m\u001b[43m,\u001b[49m\u001b[43m \u001b[49m\u001b[43mdata\u001b[49m\u001b[43m=\u001b[49m\u001b[43mtrain_processed\u001b[49m\u001b[43m,\u001b[49m\u001b[43m \u001b[49m\n\u001b[32m      3\u001b[39m \u001b[43m              \u001b[49m\u001b[43mpalette\u001b[49m\u001b[43m=\u001b[49m\u001b[43m[\u001b[49m\u001b[33;43m'\u001b[39;49m\u001b[33;43m#ff9999\u001b[39;49m\u001b[33;43m'\u001b[39;49m\u001b[43m,\u001b[49m\u001b[33;43m'\u001b[39;49m\u001b[33;43m#66b3ff\u001b[39;49m\u001b[33;43m'\u001b[39;49m\u001b[43m]\u001b[49m\u001b[43m,\u001b[49m\u001b[43m \u001b[49m\u001b[43morder\u001b[49m\u001b[43m=\u001b[49m\u001b[43mage_labels\u001b[49m\u001b[43m)\u001b[49m\n\u001b[32m      5\u001b[39m plt.title(\u001b[33m'\u001b[39m\u001b[33mSurvival by Age Group\u001b[39m\u001b[33m'\u001b[39m, fontsize=\u001b[32m16\u001b[39m)\n\u001b[32m      6\u001b[39m plt.xlabel(\u001b[33m'\u001b[39m\u001b[33mAge Group\u001b[39m\u001b[33m'\u001b[39m, fontsize=\u001b[32m14\u001b[39m)\n",
      "\u001b[36mFile \u001b[39m\u001b[32mc:\\Users\\Shloka\\AppData\\Local\\Programs\\Python\\Python312\\Lib\\site-packages\\seaborn\\categorical.py:2631\u001b[39m, in \u001b[36mcountplot\u001b[39m\u001b[34m(data, x, y, hue, order, hue_order, orient, color, palette, saturation, fill, hue_norm, stat, width, dodge, gap, log_scale, native_scale, formatter, legend, ax, **kwargs)\u001b[39m\n\u001b[32m   2628\u001b[39m \u001b[38;5;28;01melif\u001b[39;00m x \u001b[38;5;129;01mis\u001b[39;00m \u001b[38;5;129;01mnot\u001b[39;00m \u001b[38;5;28;01mNone\u001b[39;00m \u001b[38;5;129;01mand\u001b[39;00m y \u001b[38;5;129;01mis\u001b[39;00m \u001b[38;5;129;01mnot\u001b[39;00m \u001b[38;5;28;01mNone\u001b[39;00m:\n\u001b[32m   2629\u001b[39m     \u001b[38;5;28;01mraise\u001b[39;00m \u001b[38;5;167;01mTypeError\u001b[39;00m(\u001b[33m\"\u001b[39m\u001b[33mCannot pass values for both `x` and `y`.\u001b[39m\u001b[33m\"\u001b[39m)\n\u001b[32m-> \u001b[39m\u001b[32m2631\u001b[39m p = \u001b[43m_CategoricalAggPlotter\u001b[49m\u001b[43m(\u001b[49m\n\u001b[32m   2632\u001b[39m \u001b[43m    \u001b[49m\u001b[43mdata\u001b[49m\u001b[43m=\u001b[49m\u001b[43mdata\u001b[49m\u001b[43m,\u001b[49m\n\u001b[32m   2633\u001b[39m \u001b[43m    \u001b[49m\u001b[43mvariables\u001b[49m\u001b[43m=\u001b[49m\u001b[38;5;28;43mdict\u001b[39;49m\u001b[43m(\u001b[49m\u001b[43mx\u001b[49m\u001b[43m=\u001b[49m\u001b[43mx\u001b[49m\u001b[43m,\u001b[49m\u001b[43m \u001b[49m\u001b[43my\u001b[49m\u001b[43m=\u001b[49m\u001b[43my\u001b[49m\u001b[43m,\u001b[49m\u001b[43m \u001b[49m\u001b[43mhue\u001b[49m\u001b[43m=\u001b[49m\u001b[43mhue\u001b[49m\u001b[43m)\u001b[49m\u001b[43m,\u001b[49m\n\u001b[32m   2634\u001b[39m \u001b[43m    \u001b[49m\u001b[43morder\u001b[49m\u001b[43m=\u001b[49m\u001b[43morder\u001b[49m\u001b[43m,\u001b[49m\n\u001b[32m   2635\u001b[39m \u001b[43m    \u001b[49m\u001b[43morient\u001b[49m\u001b[43m=\u001b[49m\u001b[43morient\u001b[49m\u001b[43m,\u001b[49m\n\u001b[32m   2636\u001b[39m \u001b[43m    \u001b[49m\u001b[43mcolor\u001b[49m\u001b[43m=\u001b[49m\u001b[43mcolor\u001b[49m\u001b[43m,\u001b[49m\n\u001b[32m   2637\u001b[39m \u001b[43m    \u001b[49m\u001b[43mlegend\u001b[49m\u001b[43m=\u001b[49m\u001b[43mlegend\u001b[49m\u001b[43m,\u001b[49m\n\u001b[32m   2638\u001b[39m \u001b[43m\u001b[49m\u001b[43m)\u001b[49m\n\u001b[32m   2640\u001b[39m \u001b[38;5;28;01mif\u001b[39;00m ax \u001b[38;5;129;01mis\u001b[39;00m \u001b[38;5;28;01mNone\u001b[39;00m:\n\u001b[32m   2641\u001b[39m     ax = plt.gca()\n",
      "\u001b[36mFile \u001b[39m\u001b[32mc:\\Users\\Shloka\\AppData\\Local\\Programs\\Python\\Python312\\Lib\\site-packages\\seaborn\\categorical.py:67\u001b[39m, in \u001b[36m_CategoricalPlotter.__init__\u001b[39m\u001b[34m(self, data, variables, order, orient, require_numeric, color, legend)\u001b[39m\n\u001b[32m     56\u001b[39m \u001b[38;5;28;01mdef\u001b[39;00m\u001b[38;5;250m \u001b[39m\u001b[34m__init__\u001b[39m(\n\u001b[32m     57\u001b[39m     \u001b[38;5;28mself\u001b[39m,\n\u001b[32m     58\u001b[39m     data=\u001b[38;5;28;01mNone\u001b[39;00m,\n\u001b[32m   (...)\u001b[39m\u001b[32m     64\u001b[39m     legend=\u001b[33m\"\u001b[39m\u001b[33mauto\u001b[39m\u001b[33m\"\u001b[39m,\n\u001b[32m     65\u001b[39m ):\n\u001b[32m---> \u001b[39m\u001b[32m67\u001b[39m     \u001b[38;5;28;43msuper\u001b[39;49m\u001b[43m(\u001b[49m\u001b[43m)\u001b[49m\u001b[43m.\u001b[49m\u001b[34;43m__init__\u001b[39;49m\u001b[43m(\u001b[49m\u001b[43mdata\u001b[49m\u001b[43m=\u001b[49m\u001b[43mdata\u001b[49m\u001b[43m,\u001b[49m\u001b[43m \u001b[49m\u001b[43mvariables\u001b[49m\u001b[43m=\u001b[49m\u001b[43mvariables\u001b[49m\u001b[43m)\u001b[49m\n\u001b[32m     69\u001b[39m     \u001b[38;5;66;03m# This method takes care of some bookkeeping that is necessary because the\u001b[39;00m\n\u001b[32m     70\u001b[39m     \u001b[38;5;66;03m# original categorical plots (prior to the 2021 refactor) had some rules that\u001b[39;00m\n\u001b[32m     71\u001b[39m     \u001b[38;5;66;03m# don't fit exactly into VectorPlotter logic. It may be wise to have a second\u001b[39;00m\n\u001b[32m   (...)\u001b[39m\u001b[32m     76\u001b[39m     \u001b[38;5;66;03m# default VectorPlotter rules. If we do decide to make orient part of the\u001b[39;00m\n\u001b[32m     77\u001b[39m     \u001b[38;5;66;03m# _base variable assignment, we'll want to figure out how to express that.\u001b[39;00m\n\u001b[32m     78\u001b[39m     \u001b[38;5;28;01mif\u001b[39;00m \u001b[38;5;28mself\u001b[39m.input_format == \u001b[33m\"\u001b[39m\u001b[33mwide\u001b[39m\u001b[33m\"\u001b[39m \u001b[38;5;129;01mand\u001b[39;00m orient \u001b[38;5;129;01min\u001b[39;00m [\u001b[33m\"\u001b[39m\u001b[33mh\u001b[39m\u001b[33m\"\u001b[39m, \u001b[33m\"\u001b[39m\u001b[33my\u001b[39m\u001b[33m\"\u001b[39m]:\n",
      "\u001b[36mFile \u001b[39m\u001b[32mc:\\Users\\Shloka\\AppData\\Local\\Programs\\Python\\Python312\\Lib\\site-packages\\seaborn\\_base.py:634\u001b[39m, in \u001b[36mVectorPlotter.__init__\u001b[39m\u001b[34m(self, data, variables)\u001b[39m\n\u001b[32m    629\u001b[39m \u001b[38;5;66;03m# var_ordered is relevant only for categorical axis variables, and may\u001b[39;00m\n\u001b[32m    630\u001b[39m \u001b[38;5;66;03m# be better handled by an internal axis information object that tracks\u001b[39;00m\n\u001b[32m    631\u001b[39m \u001b[38;5;66;03m# such information and is set up by the scale_* methods. The analogous\u001b[39;00m\n\u001b[32m    632\u001b[39m \u001b[38;5;66;03m# information for numeric axes would be information about log scales.\u001b[39;00m\n\u001b[32m    633\u001b[39m \u001b[38;5;28mself\u001b[39m._var_ordered = {\u001b[33m\"\u001b[39m\u001b[33mx\u001b[39m\u001b[33m\"\u001b[39m: \u001b[38;5;28;01mFalse\u001b[39;00m, \u001b[33m\"\u001b[39m\u001b[33my\u001b[39m\u001b[33m\"\u001b[39m: \u001b[38;5;28;01mFalse\u001b[39;00m}  \u001b[38;5;66;03m# alt., used DefaultDict\u001b[39;00m\n\u001b[32m--> \u001b[39m\u001b[32m634\u001b[39m \u001b[38;5;28;43mself\u001b[39;49m\u001b[43m.\u001b[49m\u001b[43massign_variables\u001b[49m\u001b[43m(\u001b[49m\u001b[43mdata\u001b[49m\u001b[43m,\u001b[49m\u001b[43m \u001b[49m\u001b[43mvariables\u001b[49m\u001b[43m)\u001b[49m\n\u001b[32m    636\u001b[39m \u001b[38;5;66;03m# TODO Lots of tests assume that these are called to initialize the\u001b[39;00m\n\u001b[32m    637\u001b[39m \u001b[38;5;66;03m# mappings to default values on class initialization. I'd prefer to\u001b[39;00m\n\u001b[32m    638\u001b[39m \u001b[38;5;66;03m# move away from that and only have a mapping when explicitly called.\u001b[39;00m\n\u001b[32m    639\u001b[39m \u001b[38;5;28;01mfor\u001b[39;00m var \u001b[38;5;129;01min\u001b[39;00m [\u001b[33m\"\u001b[39m\u001b[33mhue\u001b[39m\u001b[33m\"\u001b[39m, \u001b[33m\"\u001b[39m\u001b[33msize\u001b[39m\u001b[33m\"\u001b[39m, \u001b[33m\"\u001b[39m\u001b[33mstyle\u001b[39m\u001b[33m\"\u001b[39m]:\n",
      "\u001b[36mFile \u001b[39m\u001b[32mc:\\Users\\Shloka\\AppData\\Local\\Programs\\Python\\Python312\\Lib\\site-packages\\seaborn\\_base.py:679\u001b[39m, in \u001b[36mVectorPlotter.assign_variables\u001b[39m\u001b[34m(self, data, variables)\u001b[39m\n\u001b[32m    674\u001b[39m \u001b[38;5;28;01melse\u001b[39;00m:\n\u001b[32m    675\u001b[39m     \u001b[38;5;66;03m# When dealing with long-form input, use the newer PlotData\u001b[39;00m\n\u001b[32m    676\u001b[39m     \u001b[38;5;66;03m# object (internal but introduced for the objects interface)\u001b[39;00m\n\u001b[32m    677\u001b[39m     \u001b[38;5;66;03m# to centralize / standardize data consumption logic.\u001b[39;00m\n\u001b[32m    678\u001b[39m     \u001b[38;5;28mself\u001b[39m.input_format = \u001b[33m\"\u001b[39m\u001b[33mlong\u001b[39m\u001b[33m\"\u001b[39m\n\u001b[32m--> \u001b[39m\u001b[32m679\u001b[39m     plot_data = \u001b[43mPlotData\u001b[49m\u001b[43m(\u001b[49m\u001b[43mdata\u001b[49m\u001b[43m,\u001b[49m\u001b[43m \u001b[49m\u001b[43mvariables\u001b[49m\u001b[43m)\u001b[49m\n\u001b[32m    680\u001b[39m     frame = plot_data.frame\n\u001b[32m    681\u001b[39m     names = plot_data.names\n",
      "\u001b[36mFile \u001b[39m\u001b[32mc:\\Users\\Shloka\\AppData\\Local\\Programs\\Python\\Python312\\Lib\\site-packages\\seaborn\\_core\\data.py:58\u001b[39m, in \u001b[36mPlotData.__init__\u001b[39m\u001b[34m(self, data, variables)\u001b[39m\n\u001b[32m     51\u001b[39m \u001b[38;5;28;01mdef\u001b[39;00m\u001b[38;5;250m \u001b[39m\u001b[34m__init__\u001b[39m(\n\u001b[32m     52\u001b[39m     \u001b[38;5;28mself\u001b[39m,\n\u001b[32m     53\u001b[39m     data: DataSource,\n\u001b[32m     54\u001b[39m     variables: \u001b[38;5;28mdict\u001b[39m[\u001b[38;5;28mstr\u001b[39m, VariableSpec],\n\u001b[32m     55\u001b[39m ):\n\u001b[32m     57\u001b[39m     data = handle_data_source(data)\n\u001b[32m---> \u001b[39m\u001b[32m58\u001b[39m     frame, names, ids = \u001b[38;5;28;43mself\u001b[39;49m\u001b[43m.\u001b[49m\u001b[43m_assign_variables\u001b[49m\u001b[43m(\u001b[49m\u001b[43mdata\u001b[49m\u001b[43m,\u001b[49m\u001b[43m \u001b[49m\u001b[43mvariables\u001b[49m\u001b[43m)\u001b[49m\n\u001b[32m     60\u001b[39m     \u001b[38;5;28mself\u001b[39m.frame = frame\n\u001b[32m     61\u001b[39m     \u001b[38;5;28mself\u001b[39m.names = names\n",
      "\u001b[36mFile \u001b[39m\u001b[32mc:\\Users\\Shloka\\AppData\\Local\\Programs\\Python\\Python312\\Lib\\site-packages\\seaborn\\_core\\data.py:232\u001b[39m, in \u001b[36mPlotData._assign_variables\u001b[39m\u001b[34m(self, data, variables)\u001b[39m\n\u001b[32m    230\u001b[39m     \u001b[38;5;28;01melse\u001b[39;00m:\n\u001b[32m    231\u001b[39m         err += \u001b[33m\"\u001b[39m\u001b[33mAn entry with this name does not appear in `data`.\u001b[39m\u001b[33m\"\u001b[39m\n\u001b[32m--> \u001b[39m\u001b[32m232\u001b[39m     \u001b[38;5;28;01mraise\u001b[39;00m \u001b[38;5;167;01mValueError\u001b[39;00m(err)\n\u001b[32m    234\u001b[39m \u001b[38;5;28;01melse\u001b[39;00m:\n\u001b[32m    235\u001b[39m \n\u001b[32m    236\u001b[39m     \u001b[38;5;66;03m# Otherwise, assume the value somehow represents data\u001b[39;00m\n\u001b[32m    237\u001b[39m \n\u001b[32m    238\u001b[39m     \u001b[38;5;66;03m# Ignore empty data structures\u001b[39;00m\n\u001b[32m    239\u001b[39m     \u001b[38;5;28;01mif\u001b[39;00m \u001b[38;5;28misinstance\u001b[39m(val, Sized) \u001b[38;5;129;01mand\u001b[39;00m \u001b[38;5;28mlen\u001b[39m(val) == \u001b[32m0\u001b[39m:\n",
      "\u001b[31mValueError\u001b[39m: Could not interpret value `AgeGroup` for `x`. An entry with this name does not appear in `data`."
     ]
    }
   ],
   "source": [
    "# Create a grouped bar chart for survival by age group\n",
    "sns.countplot(x='AgeGroup', hue='Survived', data=train_processed, \n",
    "              palette=['#ff9999','#66b3ff'], order=age_labels)\n",
    "\n",
    "plt.title('Survival by Age Group', fontsize=16)\n",
    "plt.xlabel('Age Group', fontsize=14)\n",
    "plt.ylabel('Count', fontsize=14)\n",
    "plt.legend(title='Survived', labels=['No', 'Yes'])\n"
   ]
  },
  {
   "cell_type": "code",
   "execution_count": null,
   "id": "897cb72d",
   "metadata": {},
   "outputs": [],
   "source": [
    "# Add count labels on top of each bar\n",
    "for p in plt.gca().patches:\n",
    "    plt.gca().annotate(f'{p.get_height()}', \n",
    "                       (p.get_x() + p.get_width() / 2., p.get_height()),\n",
    "                       ha = 'center', va = 'bottom', fontsize=10)\n",
    "\n",
    "plt.show()\n"
   ]
  },
  {
   "cell_type": "code",
   "execution_count": null,
   "id": "f28586c4",
   "metadata": {},
   "outputs": [],
   "source": [
    "# Calculate and display survival rates by age group\n",
    "age_survival = train_processed.groupby('AgeGroup')['Survived'].mean().reindex(age_labels)\n",
    "print(\"Survival rate by age group:\")\n",
    "for age_group, rate in age_survival.items():\n",
    "    print(f\"{age_group}: {rate:.2%}\")\n"
   ]
  },
  {
   "cell_type": "code",
   "execution_count": null,
   "id": "dfab7ad9",
   "metadata": {},
   "outputs": [],
   "source": [
    "\n",
    "# ### 6.5 Survival by Family Size\n",
    "\n",
    "# In[28]:\n",
    "\n",
    "\n",
    "# Visualize survival rate by family size\n",
    "plt.figure(figsize=(12, 6))"
   ]
  },
  {
   "cell_type": "code",
   "execution_count": null,
   "id": "9aead6f1",
   "metadata": {},
   "outputs": [],
   "source": [
    "# Create a grouped bar chart for survival by family size\n",
    "sns.countplot(x='FamilySize', hue='Survived', data=train_processed, \n",
    "              palette=['#ff9999','#66b3ff'])\n",
    "\n",
    "plt.title('Survival by Family Size', fontsize=16)\n",
    "plt.xlabel('Family Size', fontsize=14)\n",
    "plt.ylabel('Count', fontsize=14)\n",
    "plt.legend(title='Survived', labels=['No', 'Yes'])"
   ]
  },
  {
   "cell_type": "code",
   "execution_count": null,
   "id": "86f573f7",
   "metadata": {},
   "outputs": [],
   "source": [
    "# Add count labels on top of each bar\n",
    "for p in plt.gca().patches:\n",
    "    plt.gca().annotate(f'{p.get_height()}', \n",
    "                       (p.get_x() + p.get_width() / 2., p.get_height()),\n",
    "                       ha = 'center', va = 'bottom', fontsize=10)\n",
    "\n",
    "plt.show()"
   ]
  },
  {
   "cell_type": "code",
   "execution_count": null,
   "id": "692f7ada",
   "metadata": {},
   "outputs": [],
   "source": [
    "# Calculate and display survival rates by family size\n",
    "family_survival = train_processed.groupby('FamilySize')['Survived'].mean()\n",
    "print(\"Survival rate by family size:\")\n",
    "for family_size, rate in family_survival.items():\n",
    "    print(f\"Size {family_size}: {rate:.2%}\")"
   ]
  },
  {
   "cell_type": "code",
   "execution_count": null,
   "id": "84ce38b6",
   "metadata": {},
   "outputs": [],
   "source": [
    "\n",
    "# ### 6.6 Survival by Fare\n",
    "\n",
    "# In[29]:\n",
    "\n",
    "\n",
    "# Visualize survival by fare distribution using box plots\n",
    "plt.figure(figsize=(10, 6))"
   ]
  },
  {
   "cell_type": "code",
   "execution_count": null,
   "id": "c1a41d38",
   "metadata": {},
   "outputs": [],
   "source": [
    "# Create boxplots showing fare distribution by survival status\n",
    "sns.boxplot(x='Survived', y='Fare', data=train_processed, \n",
    "            palette=['#ff9999','#66b3ff'])\n",
    "\n",
    "plt.title('Fare Distribution by Survival', fontsize=16)\n",
    "plt.xlabel('Survived', fontsize=14)\n",
    "plt.ylabel('Fare', fontsize=14)\n",
    "plt.xticks([0, 1], ['No', 'Yes'])\n",
    "\n",
    "plt.show()"
   ]
  },
  {
   "cell_type": "code",
   "execution_count": null,
   "id": "af04a213",
   "metadata": {},
   "outputs": [],
   "source": [
    "# In[30]:"
   ]
  },
  {
   "cell_type": "code",
   "execution_count": null,
   "id": "2d15f805",
   "metadata": {},
   "outputs": [],
   "source": [
    "# Visualize survival rate by fare range\n",
    "plt.figure(figsize=(10, 6))\n"
   ]
  },
  {
   "cell_type": "code",
   "execution_count": null,
   "id": "266124ec",
   "metadata": {},
   "outputs": [],
   "source": [
    "# Create a grouped bar chart for survival by fare range\n",
    "sns.countplot(x='FareRange', hue='Survived', data=train_processed, \n",
    "              palette=['#ff9999','#66b3ff'], order=fare_labels)\n",
    "\n",
    "plt.title('Survival by Fare Range', fontsize=16)\n",
    "plt.xlabel('Fare Range', fontsize=14)\n",
    "plt.ylabel('Count', fontsize=14)\n",
    "plt.legend(title='Survived', labels=['No', 'Yes'])"
   ]
  },
  {
   "cell_type": "code",
   "execution_count": null,
   "id": "46a7e742",
   "metadata": {},
   "outputs": [],
   "source": [
    "# Add count labels on top of each bar\n",
    "for p in plt.gca().patches:\n",
    "    plt.gca().annotate(f'{p.get_height()}', \n",
    "                       (p.get_x() + p.get_width() / 2., p.get_height()),\n",
    "                       ha = 'center', va = 'bottom', fontsize=10)\n",
    "\n",
    "plt.show()\n"
   ]
  },
  {
   "cell_type": "code",
   "execution_count": null,
   "id": "7e745502",
   "metadata": {},
   "outputs": [],
   "source": [
    "# Calculate and display survival rates by fare range\n",
    "fare_survival = train_processed.groupby('FareRange')['Survived'].mean().reindex(fare_labels)\n",
    "print(\"Survival rate by fare range:\")\n",
    "for fare_range, rate in fare_survival.items():\n",
    "    print(f\"{fare_range}: {rate:.2%}\")"
   ]
  },
  {
   "cell_type": "code",
   "execution_count": null,
   "id": "daacdca2",
   "metadata": {},
   "outputs": [],
   "source": [
    "# ### 6.7 Survival by Embarked Port\n",
    "\n",
    "# In[31]:"
   ]
  },
  {
   "cell_type": "code",
   "execution_count": null,
   "id": "c05d7906",
   "metadata": {},
   "outputs": [],
   "source": [
    "# Visualize survival rate by embarked port\n",
    "plt.figure(figsize=(10, 6))"
   ]
  },
  {
   "cell_type": "code",
   "execution_count": null,
   "id": "a1df214c",
   "metadata": {},
   "outputs": [],
   "source": [
    "# Create a grouped bar chart for survival by embarked port\n",
    "sns.countplot(x='Embarked', hue='Survived', data=train_processed, \n",
    "              palette=['#ff9999','#66b3ff'])\n",
    "\n",
    "plt.title('Survival by Embarked Port', fontsize=16)\n",
    "plt.xlabel('Embarked Port', fontsize=14)\n",
    "plt.ylabel('Count', fontsize=14)\n",
    "plt.legend(title='Survived', labels=['No', 'Yes'])\n"
   ]
  },
  {
   "cell_type": "code",
   "execution_count": null,
   "id": "86b086f6",
   "metadata": {},
   "outputs": [],
   "source": [
    "# Add count labels on top of each bar\n",
    "for p in plt.gca().patches:\n",
    "    plt.gca().annotate(f'{p.get_height()}', \n",
    "                       (p.get_x() + p.get_width() / 2., p.get_height()),\n",
    "                       ha = 'center', va = 'bottom', fontsize=10)\n",
    "\n",
    "plt.show()\n"
   ]
  },
  {
   "cell_type": "code",
   "execution_count": null,
   "id": "da19ba45",
   "metadata": {},
   "outputs": [],
   "source": [
    "# Calculate and display survival rates by embarked port\n",
    "port_survival = train_processed.groupby('Embarked')['Survived'].mean().sort_values(ascending=False)\n",
    "print(\"Survival rate by embarked port:\")\n",
    "for port, rate in port_survival.items():\n",
    "    print(f\"Port {port}: {rate:.2%}\")"
   ]
  },
  {
   "cell_type": "code",
   "execution_count": null,
   "id": "100b16f9",
   "metadata": {},
   "outputs": [],
   "source": [
    "# ### 6.8 Survival by Title\n",
    "\n",
    "# In[32]:\n",
    "\n",
    "\n",
    "# Visualize survival rate by passenger title\n",
    "plt.figure(figsize=(12, 6))"
   ]
  },
  {
   "cell_type": "code",
   "execution_count": null,
   "id": "a4f5029e",
   "metadata": {},
   "outputs": [],
   "source": [
    "\n",
    "# Create a grouped bar chart for survival by title\n",
    "sns.countplot(x='Title', hue='Survived', data=train_processed, \n",
    "              palette=['#ff9999','#66b3ff'])\n",
    "\n",
    "plt.title('Survival by Passenger Title', fontsize=16)\n",
    "plt.xlabel('Title', fontsize=14)\n",
    "plt.ylabel('Count', fontsize=14)\n",
    "plt.legend(title='Survived', labels=['No', 'Yes'])"
   ]
  },
  {
   "cell_type": "code",
   "execution_count": null,
   "id": "d2b79972",
   "metadata": {},
   "outputs": [],
   "source": [
    "\n",
    "# Add count labels on top of each bar\n",
    "for p in plt.gca().patches:\n",
    "    plt.gca().annotate(f'{p.get_height()}', \n",
    "                       (p.get_x() + p.get_width() / 2., p.get_height()),\n",
    "                       ha = 'center', va = 'bottom', fontsize=10)\n",
    "\n",
    "plt.tight_layout()\n",
    "plt.show()"
   ]
  },
  {
   "cell_type": "code",
   "execution_count": null,
   "id": "640c608d",
   "metadata": {},
   "outputs": [],
   "source": [
    "# Calculate and display survival rates by title\n",
    "title_survival = train_processed.groupby('Title')['Survived'].mean().sort_values(ascending=False)\n",
    "print(\"Survival rate by passenger title:\")\n",
    "for title, rate in title_survival.items():\n",
    "    print(f\"{title}: {rate:.2%}\")"
   ]
  },
  {
   "cell_type": "code",
   "execution_count": null,
   "id": "0dcf2d1f",
   "metadata": {},
   "outputs": [],
   "source": [
    "# ### 6.9 Survival by Deck\n",
    "\n",
    "# In[33]:\n",
    "\n",
    "\n",
    "# Visualize survival rate by deck\n",
    "plt.figure(figsize=(12, 6))"
   ]
  },
  {
   "cell_type": "code",
   "execution_count": null,
   "id": "8bef1196",
   "metadata": {},
   "outputs": [],
   "source": [
    "# Create a grouped bar chart for survival by deck\n",
    "sns.countplot(x='Deck', hue='Survived', data=train_processed, \n",
    "              palette=['#ff9999','#66b3ff'])\n",
    "\n",
    "plt.title('Survival by Deck', fontsize=16)\n",
    "plt.xlabel('Deck', fontsize=14)\n",
    "plt.ylabel('Count', fontsize=14)\n",
    "plt.legend(title='Survived', labels=['No', 'Yes'])"
   ]
  },
  {
   "cell_type": "code",
   "execution_count": null,
   "id": "330e96a7",
   "metadata": {},
   "outputs": [],
   "source": [
    "# Add count labels on top of each bar\n",
    "for p in plt.gca().patches:\n",
    "    height = p.get_height()\n",
    "    if height > 0:  # Only add labels for bars with height > 0\n",
    "        plt.gca().annotate(f'{height}', \n",
    "                           (p.get_x() + p.get_width() / 2., height),\n",
    "                           ha = 'center', va = 'bottom', fontsize=10)\n",
    "\n",
    "plt.tight_layout()\n",
    "plt.show()\n"
   ]
  },
  {
   "cell_type": "code",
   "execution_count": null,
   "id": "79cf6582",
   "metadata": {},
   "outputs": [],
   "source": [
    "# Calculate and display survival rates by deck\n",
    "# Filter out decks with very few passengers to avoid misleading rates\n",
    "deck_counts = train_processed['Deck'].value_counts()\n",
    "valid_decks = deck_counts[deck_counts > 5].index.tolist()\n",
    "\n",
    "deck_survival = train_processed[train_processed['Deck'].isin(valid_decks)].groupby('Deck')['Survived'].mean().sort_values(ascending=False)\n",
    "print(\"Survival rate by deck (for decks with >5 passengers):\")\n",
    "for deck, rate in deck_survival.items():\n",
    "    print(f\"Deck {deck}: {rate:.2%}\")"
   ]
  },
  {
   "cell_type": "code",
   "execution_count": null,
   "id": "29b29284",
   "metadata": {},
   "outputs": [],
   "source": [
    "\n",
    "# ### 6.10 Interactive Multi-feature Analysis with Plotly\n",
    "\n",
    "# In[34]:\n",
    "\n",
    "\n",
    "# Create interactive visualizations using Plotly\n",
    "# This bubble chart shows survival by class, sex, and age\n",
    "# with bubble size representing fare"
   ]
  },
  {
   "cell_type": "code",
   "execution_count": null,
   "id": "2699a02f",
   "metadata": {},
   "outputs": [],
   "source": [
    "\n",
    "# Create an interactive bubble chart\n",
    "fig = px.scatter(train_processed, \n",
    "                x='Age', \n",
    "                y='Fare', \n",
    "                size='FamilySize',\n",
    "                color='Survived', \n",
    "                facet_col='Sex',\n",
    "                facet_row='Pclass',\n",
    "                hover_name='Name',\n",
    "                hover_data=['Ticket', 'Cabin', 'Embarked'],\n",
    "                color_discrete_sequence=['#ff6b6b', '#4ecdc4'],\n",
    "                title='Survival by Class, Sex, Age, Fare, and Family Size',\n",
    "                labels={'Survived': 'Survived', 'Age': 'Age', 'Fare': 'Fare'},\n",
    "                category_orders={'Survived': [0, 1], 'Pclass': [1, 2, 3]},\n",
    "                height=800)"
   ]
  },
  {
   "cell_type": "code",
   "execution_count": null,
   "id": "f08d031f",
   "metadata": {},
   "outputs": [],
   "source": [
    "\n",
    "# Update the layout for better readability\n",
    "fig.update_layout(\n",
    "    font=dict(size=12),\n",
    "    legend=dict(title='Survived', orientation='h', yanchor='bottom', y=1.02, xanchor='right', x=1)\n",
    ")"
   ]
  },
  {
   "cell_type": "code",
   "execution_count": null,
   "id": "37b856bc",
   "metadata": {},
   "outputs": [],
   "source": [
    "# Show the interactive figure\n",
    "fig.show()"
   ]
  },
  {
   "cell_type": "code",
   "execution_count": null,
   "id": "83cb788f",
   "metadata": {},
   "outputs": [],
   "source": [
    "# ## 7. Correlation Analysis\n",
    "# \n",
    "# Let's examine the correlations between features and survival:\n",
    "\n",
    "# In[35]:\n",
    "\n",
    "\n",
    "# Calculate correlations with survival for numerical features\n",
    "numeric_features = ['Survived', 'Pclass', 'Age', 'SibSp', 'Parch', 'Fare', \n",
    "                    'FamilySize', 'IsAlone', 'HasCabin']\n",
    "correlations = train_processed[numeric_features].corr()['Survived'].sort_values(ascending=False)"
   ]
  },
  {
   "cell_type": "code",
   "execution_count": null,
   "id": "2eb09bab",
   "metadata": {},
   "outputs": [],
   "source": [
    "# Display correlations with survival\n",
    "print(\"Correlations with Survival (numerical features):\")\n",
    "print(correlations)"
   ]
  },
  {
   "cell_type": "code",
   "execution_count": null,
   "id": "659c28ae",
   "metadata": {},
   "outputs": [],
   "source": [
    "# Create a bar chart of correlations\n",
    "plt.figure(figsize=(12, 8))\n",
    "correlations.drop('Survived').plot(kind='bar', color=np.where(correlations.drop('Survived') > 0, '#4ecdc4', '#ff6b6b'))\n",
    "plt.title('Correlation of Features with Survival', fontsize=16)\n",
    "plt.ylabel('Correlation Coefficient', fontsize=14)\n",
    "plt.xlabel('Features', fontsize=14)\n",
    "plt.axhline(y=0, color='k', linestyle='--', alpha=0.5)\n",
    "plt.grid(axis='y', alpha=0.3)"
   ]
  },
  {
   "cell_type": "code",
   "execution_count": null,
   "id": "129cea52",
   "metadata": {},
   "outputs": [],
   "source": [
    " #Add correlation values above/below each bar\n",
    "for i, corr in enumerate(correlations.drop('Survived')):\n",
    "    plt.annotate(f'{corr:.2f}', \n",
    "                 (i, corr + (0.01 if corr >= 0 else -0.03)),\n",
    "                 ha='center')\n",
    "\n",
    "plt.tight_layout()\n",
    "plt.show()\n"
   ]
  },
  {
   "cell_type": "code",
   "execution_count": null,
   "id": "fb5177bb",
   "metadata": {},
   "outputs": [],
   "source": [
    "# In[36]:\n",
    "\n",
    "\n",
    "# Create a correlation heatmap for numerical features\n",
    "plt.figure(figsize=(12, 10))\n",
    "correlation_matrix = train_processed[numeric_features].corr()\n"
   ]
  },
  {
   "cell_type": "code",
   "execution_count": null,
   "id": "7ea075ed",
   "metadata": {},
   "outputs": [],
   "source": [
    "\n",
    "# Generate a mask for the upper triangle of the correlation matrix\n",
    "# This makes the heatmap show only the lower triangle for cleaner display\n",
    "mask = np.triu(np.ones_like(correlation_matrix, dtype=bool))"
   ]
  },
  {
   "cell_type": "code",
   "execution_count": null,
   "id": "a26aa186",
   "metadata": {},
   "outputs": [],
   "source": [
    "\n",
    "# Create the heatmap with seaborn\n",
    "sns.heatmap(correlation_matrix, mask=mask, annot=True, fmt='.2f', \n",
    "            cmap='coolwarm', linewidths=0.5, cbar_kws={'shrink': .8})\n",
    "\n",
    "plt.title('Correlation Matrix of Numerical Features', fontsize=16)\n",
    "plt.tight_layout()\n",
    "plt.show()"
   ]
  },
  {
   "cell_type": "code",
   "execution_count": null,
   "id": "02173160",
   "metadata": {},
   "outputs": [],
   "source": [
    "# ## 8. Multivariate Analysis\n",
    "# \n",
    "# Let's examine how multiple features interact to affect survival:\n",
    "\n",
    "# In[37]:\n",
    "\n",
    "\n",
    "# Create a visualization of survival by passenger class and sex\n",
    "plt.figure(figsize=(12, 6))"
   ]
  },
  {
   "cell_type": "code",
   "execution_count": null,
   "id": "a136e3c2",
   "metadata": {},
   "outputs": [],
   "source": [
    "# Use FacetGrid to create separate plots for each passenger class\n",
    "g = sns.FacetGrid(train_processed, col='Pclass', height=5)\n",
    "g.map(sns.countplot, 'Sex', 'Survived', palette=['#ff9999','#66b3ff'])\n",
    "\n",
    "plt.suptitle('Survival by Class and Sex', fontsize=16, y=1.05)\n",
    "plt.tight_layout()\n",
    "plt.show()"
   ]
  },
  {
   "cell_type": "code",
   "execution_count": null,
   "id": "a30069d6",
   "metadata": {},
   "outputs": [],
   "source": [
    "# Calculate survival rates by class and sex\n",
    "class_sex_survival = train_processed.groupby(['Pclass', 'Sex'])['Survived'].mean().unstack()\n",
    "print(\"Survival rate by class and sex:\")\n",
    "print(class_sex_survival)"
   ]
  },
  {
   "cell_type": "code",
   "execution_count": null,
   "id": "82f4fb6b",
   "metadata": {},
   "outputs": [],
   "source": [
    "\n",
    "# In[38]:\n",
    "\n",
    "\n",
    "# Create a visualization of survival by passenger class and age group\n",
    "plt.figure(figsize=(16, 8))"
   ]
  },
  {
   "cell_type": "code",
   "execution_count": null,
   "id": "b0adba69",
   "metadata": {},
   "outputs": [],
   "source": [
    "# Create a subplot grid\n",
    "plt.subplot(1, 2, 1)\n"
   ]
  },
  {
   "cell_type": "code",
   "execution_count": null,
   "id": "65ab9801",
   "metadata": {},
   "outputs": [],
   "source": [
    "# Plot survival by class and age group for males\n",
    "sns.barplot(x='AgeGroup', y='Survived', hue='Pclass', \n",
    "            data=train_processed[train_processed['Sex'] == 'male'],\n",
    "            palette='Blues', order=age_labels)\n",
    "plt.title('Male Survival by Age Group and Class', fontsize=14)\n",
    "plt.xlabel('Age Group')\n",
    "plt.ylabel('Survival Rate')\n",
    "plt.legend(title='Class')\n",
    "\n",
    "plt.subplot(1, 2, 2)"
   ]
  },
  {
   "cell_type": "code",
   "execution_count": null,
   "id": "f0448dbd",
   "metadata": {},
   "outputs": [],
   "source": [
    "# Plot survival by class and age group for females\n",
    "sns.barplot(x='AgeGroup', y='Survived', hue='Pclass', \n",
    "            data=train_processed[train_processed['Sex'] == 'female'],\n",
    "            palette='Reds', order=age_labels)\n",
    "plt.title('Female Survival by Age Group and Class', fontsize=14)\n",
    "plt.xlabel('Age Group')\n",
    "plt.ylabel('Survival Rate')\n",
    "plt.legend(title='Class')\n",
    "\n",
    "plt.suptitle('Survival Rate by Sex, Age Group, and Class', fontsize=16)\n",
    "plt.tight_layout()\n",
    "plt.show()"
   ]
  },
  {
   "cell_type": "code",
   "execution_count": null,
   "id": "7d11d749",
   "metadata": {},
   "outputs": [],
   "source": [
    "# In[39]:\n",
    "\n",
    "\n",
    "# Create a visualization of survival by family situation\n",
    "# Using both IsAlone and Pclass\n",
    "\n",
    "# First, create a figure\n",
    "plt.figure(figsize=(12, 6))\n"
   ]
  },
  {
   "cell_type": "code",
   "execution_count": null,
   "id": "34c8ef49",
   "metadata": {},
   "outputs": [],
   "source": [
    "# Create a grouped bar chart\n",
    "sns.catplot(x='IsAlone', y='Survived', hue='Pclass', col='Sex',\n",
    "            data=train_processed, kind='bar', height=5, aspect=0.8,\n",
    "            palette=['#3498db', '#2ecc71', '#e74c3c'])\n",
    "\n",
    "plt.suptitle('Survival Rate by Traveling Alone Status, Class, and Sex', fontsize=16, y=1.05)\n",
    "plt.tight_layout()\n",
    "plt.show()\n"
   ]
  },
  {
   "cell_type": "code",
   "execution_count": null,
   "id": "f9d86b58",
   "metadata": {},
   "outputs": [],
   "source": [
    "# Calculate survival rates\n",
    "alone_class_sex_survival = train_processed.groupby(['IsAlone', 'Pclass', 'Sex'])['Survived'].mean().reset_index()\n",
    "print(\"Survival rate by traveling alone status, class, and sex:\")\n",
    "print(alone_class_sex_survival.sort_values('Survived', ascending=False))"
   ]
  },
  {
   "cell_type": "code",
   "execution_count": null,
   "id": "8fdce498",
   "metadata": {},
   "outputs": [],
   "source": [
    "# ## 9. Summary of Insights\n",
    "\n",
    "# In[40]:\n",
    "\n",
    "\n",
    "# Create a summary of key insights found during EDA\n",
    "\n",
    "# Create a plotly table for insights\n",
    "insights = [\n",
    "    ['Gender', 'Women had a much higher survival rate (74%) than men (19%).'],\n",
    "    ['Class', 'First-class passengers had the highest survival rate (63%), followed by second-class (47%) and third-class (24%).'],\n",
    "    ['Age', 'Children under 12 had a higher survival rate (50%) compared to adults.'],\n",
    "    ['Family', 'Passengers traveling with 1-3 family members had higher survival rates than those traveling alone or with very large families.'],\n",
    "    ['Fare', 'Higher fare paying passengers were more likely to survive.'],\n",
    "    ['Embarked', 'Passengers who embarked from Cherbourg (C) had higher survival rates (55%) than those from Queenstown (Q) or Southampton (S).'],\n",
    "    ['Cabin', 'Passengers with known cabin information were more likely to survive (30% vs 60%).'],\n",
    "    ['Titles', \"Passengers with 'Master' or 'Mrs' titles had higher survival rates.\"],\n",
    "    ['Combined', 'Class and gender had the strongest combined effect on survival: first-class women had a 97% survival rate while third-class men had only a 14% survival rate.']\n",
    "]\n"
   ]
  },
  {
   "cell_type": "code",
   "execution_count": null,
   "id": "9f482fbf",
   "metadata": {},
   "outputs": [],
   "source": [
    "# Create a plotly table\n",
    "fig = go.Figure(data=[go.Table(\n",
    "    header=dict(values=['Factor', 'Key Insight'],\n",
    "                fill_color='#4F628E',\n",
    "                font=dict(color='white', size=14),\n",
    "                align='left',\n",
    "                height=40),\n",
    "    cells=dict(values=list(zip(*insights)),\n",
    "               fill_color=['#F0F2F6', '#EAEDED'],\n",
    "               font=dict(color='black', size=12),\n",
    "               align='left',\n",
    "               height=30))\n",
    "])\n",
    "\n",
    "fig.update_layout(\n",
    "    title=\"Key Insights from Titanic EDA\",\n",
    "    height=500,\n",
    "    margin=dict(l=10, r=10, t=40, b=10)\n",
    ")\n",
    "\n",
    "fig.show()"
   ]
  },
  {
   "cell_type": "code",
   "execution_count": null,
   "id": "3088e5c4",
   "metadata": {},
   "outputs": [],
   "source": [
    "# ## 10. Conclusion\n",
    "\n",
    "# Based on our extensive exploratory data analysis, we can draw several important conclusions about the factors that influenced survival on the Titanic:\n",
    "# \n",
    "# 1. **Gender was the strongest single predictor of survival**. Women were much more likely to survive than men, reflecting the \"women and children first\" evacuation policy.\n",
    "# \n",
    "# 2. **Social class played a significant role**. First-class passengers had much higher survival rates than second-class, who in turn fared better than third-class passengers. This suggests that passenger class influenced access to lifeboats.\n",
    "# \n",
    "# 3. **Age was also important**. Children had higher survival rates, particularly in second and third class.\n",
    "# \n",
    "# 4. **Family relationships mattered**. Passengers traveling with small families (1-3 additional family members) had better survival chances than either solo travelers or those with very large families.\n",
    "# \n",
    "# 5. **Cabin location appears significant**. Passengers with cabin information recorded (likely indicating higher-status cabins on upper decks) had better survival rates.\n",
    "# \n",
    "# 6. **Embarkation port correlated with survival**. This might reflect socioeconomic differences between passengers boarding at different ports.\n",
    "# \n",
    "# 7. **The combination of gender and class was extremely predictive**. First-class women had nearly universal survival, while third-class men had very low survival rates.\n",
    "# \n",
    "# These insights provide valuable understanding of the social and physical factors that influenced who survived this historic disaster. They also provide a strong foundation for building predictive models to determine the factors that most affected a passenger's chance of survival.\n",
    "\n",
    "# In[ ]:"
   ]
  }
 ],
 "metadata": {
  "kernelspec": {
   "display_name": "Python 3",
   "language": "python",
   "name": "python3"
  },
  "language_info": {
   "codemirror_mode": {
    "name": "ipython",
    "version": 3
   },
   "file_extension": ".py",
   "mimetype": "text/x-python",
   "name": "python",
   "nbconvert_exporter": "python",
   "pygments_lexer": "ipython3",
   "version": "3.12.4"
  }
 },
 "nbformat": 4,
 "nbformat_minor": 5
}
